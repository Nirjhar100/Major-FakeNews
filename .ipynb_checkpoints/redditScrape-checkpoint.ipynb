{
 "cells": [
  {
   "cell_type": "code",
   "execution_count": 33,
   "metadata": {},
   "outputs": [],
   "source": [
    "from psaw import PushshiftAPI\n",
    "import pandas as pd"
   ]
  },
  {
   "cell_type": "code",
   "execution_count": 37,
   "metadata": {},
   "outputs": [],
   "source": [
    "#create scraping function using pushshiftAPI\n",
    "def scrape_data(subreddit):\n",
    "    api = PushshiftAPI()\n",
    "    subreddit_list = list(api.search_submissions(subreddit=subreddit, filter=['title','subreddit'], limit=10000))\n",
    "    \n",
    "    #filter list to show title and subbredit only\n",
    "    scrape_list = []\n",
    "    for i in range(len(subreddit_list)):\n",
    "        scrape_dict = {}\n",
    "        scrape_dict['subreddit'] = subreddit_list[i][1]\n",
    "        scrape_dict['title'] = subreddit_list[i][2]\n",
    "        scrape_list.append(scrape_dict)\n",
    "    return(scrape_list)"
   ]
  },
  {
   "cell_type": "code",
   "execution_count": 38,
   "metadata": {},
   "outputs": [
    {
     "name": "stdout",
     "output_type": "stream",
     "text": [
      "df_not_onion shape: (10000, 2)\n"
     ]
    },
    {
     "data": {
      "text/html": [
       "<div>\n",
       "<style scoped>\n",
       "    .dataframe tbody tr th:only-of-type {\n",
       "        vertical-align: middle;\n",
       "    }\n",
       "\n",
       "    .dataframe tbody tr th {\n",
       "        vertical-align: top;\n",
       "    }\n",
       "\n",
       "    .dataframe thead th {\n",
       "        text-align: right;\n",
       "    }\n",
       "</style>\n",
       "<table border=\"1\" class=\"dataframe\">\n",
       "  <thead>\n",
       "    <tr style=\"text-align: right;\">\n",
       "      <th></th>\n",
       "      <th>subreddit</th>\n",
       "      <th>title</th>\n",
       "    </tr>\n",
       "  </thead>\n",
       "  <tbody>\n",
       "    <tr>\n",
       "      <td>0</td>\n",
       "      <td>nottheonion</td>\n",
       "      <td>Judge asks lawyers to wear shirts, get out of ...</td>\n",
       "    </tr>\n",
       "    <tr>\n",
       "      <td>1</td>\n",
       "      <td>nottheonion</td>\n",
       "      <td>Report: Halladay on drugs, doing stunts when p...</td>\n",
       "    </tr>\n",
       "    <tr>\n",
       "      <td>2</td>\n",
       "      <td>nottheonion</td>\n",
       "      <td>Ninth Circuit Says Man Can't Sue Officers Who ...</td>\n",
       "    </tr>\n",
       "    <tr>\n",
       "      <td>3</td>\n",
       "      <td>nottheonion</td>\n",
       "      <td>Florida Governor Declares Pro Wrestling an “Es...</td>\n",
       "    </tr>\n",
       "    <tr>\n",
       "      <td>4</td>\n",
       "      <td>nottheonion</td>\n",
       "      <td>Donald Trump names WWE's Vince McMahon as advi...</td>\n",
       "    </tr>\n",
       "  </tbody>\n",
       "</table>\n",
       "</div>"
      ],
      "text/plain": [
       "     subreddit                                              title\n",
       "0  nottheonion  Judge asks lawyers to wear shirts, get out of ...\n",
       "1  nottheonion  Report: Halladay on drugs, doing stunts when p...\n",
       "2  nottheonion  Ninth Circuit Says Man Can't Sue Officers Who ...\n",
       "3  nottheonion  Florida Governor Declares Pro Wrestling an “Es...\n",
       "4  nottheonion  Donald Trump names WWE's Vince McMahon as advi..."
      ]
     },
     "execution_count": 38,
     "metadata": {},
     "output_type": "execute_result"
    }
   ],
   "source": [
    "# Call function and create DataFrame\n",
    "df_not_onion = pd.DataFrame(scrape_data('nottheonion'))\n",
    "\n",
    "# Save real news data to csv\n",
    "df_not_onion.to_csv('./not_onion.csv')\n",
    "\n",
    "# Shape of DataFrame\n",
    "print(f'df_not_onion shape: {df_not_onion.shape}')\n",
    "\n",
    "# Show head\n",
    "df_not_onion.head()"
   ]
  },
  {
   "cell_type": "code",
   "execution_count": 39,
   "metadata": {},
   "outputs": [
    {
     "name": "stdout",
     "output_type": "stream",
     "text": [
      "df_onion shape: (10000, 2)\n"
     ]
    },
    {
     "data": {
      "text/html": [
       "<div>\n",
       "<style scoped>\n",
       "    .dataframe tbody tr th:only-of-type {\n",
       "        vertical-align: middle;\n",
       "    }\n",
       "\n",
       "    .dataframe tbody tr th {\n",
       "        vertical-align: top;\n",
       "    }\n",
       "\n",
       "    .dataframe thead th {\n",
       "        text-align: right;\n",
       "    }\n",
       "</style>\n",
       "<table border=\"1\" class=\"dataframe\">\n",
       "  <thead>\n",
       "    <tr style=\"text-align: right;\">\n",
       "      <th></th>\n",
       "      <th>subreddit</th>\n",
       "      <th>title</th>\n",
       "    </tr>\n",
       "  </thead>\n",
       "  <tbody>\n",
       "    <tr>\n",
       "      <td>0</td>\n",
       "      <td>TheOnion</td>\n",
       "      <td>Lonely Pedophile Wistfully Surveys Deserted Sc...</td>\n",
       "    </tr>\n",
       "    <tr>\n",
       "      <td>1</td>\n",
       "      <td>TheOnion</td>\n",
       "      <td>Grinning Tim Cook Announces New iPhone Will No...</td>\n",
       "    </tr>\n",
       "    <tr>\n",
       "      <td>2</td>\n",
       "      <td>TheOnion</td>\n",
       "      <td>Grinning Tim Cook Announces New iPhone Will No...</td>\n",
       "    </tr>\n",
       "    <tr>\n",
       "      <td>3</td>\n",
       "      <td>TheOnion</td>\n",
       "      <td>Bib-Wearing Nation Holding Forks And Knives Im...</td>\n",
       "    </tr>\n",
       "    <tr>\n",
       "      <td>4</td>\n",
       "      <td>TheOnion</td>\n",
       "      <td>Netflix Algorithm Suggests Viewer Who Enjoyed ...</td>\n",
       "    </tr>\n",
       "  </tbody>\n",
       "</table>\n",
       "</div>"
      ],
      "text/plain": [
       "  subreddit                                              title\n",
       "0  TheOnion  Lonely Pedophile Wistfully Surveys Deserted Sc...\n",
       "1  TheOnion  Grinning Tim Cook Announces New iPhone Will No...\n",
       "2  TheOnion  Grinning Tim Cook Announces New iPhone Will No...\n",
       "3  TheOnion  Bib-Wearing Nation Holding Forks And Knives Im...\n",
       "4  TheOnion  Netflix Algorithm Suggests Viewer Who Enjoyed ..."
      ]
     },
     "execution_count": 39,
     "metadata": {},
     "output_type": "execute_result"
    }
   ],
   "source": [
    "df_onion = pd.DataFrame(scrape_data('theonion'))\n",
    "\n",
    "# Save fake news data to csv\n",
    "df_onion.to_csv('./the_onion.csv')\n",
    "\n",
    "# Shape of DataFrame\n",
    "print(f'df_onion shape: {df_onion.shape}')\n",
    "\n",
    "# Show head\n",
    "df_onion.head()"
   ]
  },
  {
   "cell_type": "code",
   "execution_count": null,
   "metadata": {},
   "outputs": [],
   "source": []
  }
 ],
 "metadata": {
  "kernelspec": {
   "display_name": "Python 3",
   "language": "python",
   "name": "python3"
  },
  "language_info": {
   "codemirror_mode": {
    "name": "ipython",
    "version": 3
   },
   "file_extension": ".py",
   "mimetype": "text/x-python",
   "name": "python",
   "nbconvert_exporter": "python",
   "pygments_lexer": "ipython3",
   "version": "3.7.4"
  }
 },
 "nbformat": 4,
 "nbformat_minor": 2
}
