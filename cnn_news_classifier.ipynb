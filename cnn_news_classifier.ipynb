{
  "nbformat": 4,
  "nbformat_minor": 0,
  "metadata": {
    "colab": {
      "name": "cnn_news_classifier.ipynb",
      "provenance": [],
      "collapsed_sections": [],
      "authorship_tag": "ABX9TyMLf+pKHgUXnH+jbAEHul3Y",
      "include_colab_link": true
    },
    "kernelspec": {
      "name": "python3",
      "display_name": "Python 3"
    }
  },
  "cells": [
    {
      "cell_type": "markdown",
      "metadata": {
        "id": "view-in-github",
        "colab_type": "text"
      },
      "source": [
        "<a href=\"https://colab.research.google.com/github/Nirjhar100/Major-FakeNews/blob/master/cnn_news_classifier.ipynb\" target=\"_parent\"><img src=\"https://colab.research.google.com/assets/colab-badge.svg\" alt=\"Open In Colab\"/></a>"
      ]
    },
    {
      "cell_type": "code",
      "metadata": {
        "id": "Ut6_5YN_O8qb",
        "colab_type": "code",
        "outputId": "200e3c41-2814-4b9e-b517-5d2dc564b46e",
        "colab": {
          "base_uri": "https://localhost:8080/",
          "height": 34
        }
      },
      "source": [
        "import pandas as pd\n",
        "from sklearn.model_selection import train_test_split\n",
        "from sklearn.feature_extraction.text import CountVectorizer\n",
        "from sklearn.naive_bayes import MultinomialNB\n",
        "from keras.models import Sequential\n",
        "from keras import layers\n",
        "from keras.preprocessing.text import Tokenizer\n",
        "from keras.preprocessing.sequence import pad_sequences"
      ],
      "execution_count": 0,
      "outputs": [
        {
          "output_type": "stream",
          "text": [
            "Using TensorFlow backend.\n"
          ],
          "name": "stderr"
        }
      ]
    },
    {
      "cell_type": "code",
      "metadata": {
        "id": "mZROWo9XPT-A",
        "colab_type": "code",
        "outputId": "fdff19b7-93be-40a2-8a6a-a13263684b7b",
        "colab": {
          "base_uri": "https://localhost:8080/",
          "height": 221
        }
      },
      "source": [
        "df = pd.read_csv('./clean_data.csv')\n",
        "print(df.shape)\n",
        "df.tail()"
      ],
      "execution_count": 0,
      "outputs": [
        {
          "output_type": "stream",
          "text": [
            "(25336, 3)\n"
          ],
          "name": "stdout"
        },
        {
          "output_type": "execute_result",
          "data": {
            "text/html": [
              "<div>\n",
              "<style scoped>\n",
              "    .dataframe tbody tr th:only-of-type {\n",
              "        vertical-align: middle;\n",
              "    }\n",
              "\n",
              "    .dataframe tbody tr th {\n",
              "        vertical-align: top;\n",
              "    }\n",
              "\n",
              "    .dataframe thead th {\n",
              "        text-align: right;\n",
              "    }\n",
              "</style>\n",
              "<table border=\"1\" class=\"dataframe\">\n",
              "  <thead>\n",
              "    <tr style=\"text-align: right;\">\n",
              "      <th></th>\n",
              "      <th>Unnamed: 0</th>\n",
              "      <th>subreddit</th>\n",
              "      <th>title</th>\n",
              "    </tr>\n",
              "  </thead>\n",
              "  <tbody>\n",
              "    <tr>\n",
              "      <th>25331</th>\n",
              "      <td>14995</td>\n",
              "      <td>0</td>\n",
              "      <td>cdc urges citizens to avoid spreading coronavi...</td>\n",
              "    </tr>\n",
              "    <tr>\n",
              "      <th>25332</th>\n",
              "      <td>14996</td>\n",
              "      <td>0</td>\n",
              "      <td>tito s vodka is warning consumers that it can ...</td>\n",
              "    </tr>\n",
              "    <tr>\n",
              "      <th>25333</th>\n",
              "      <td>14997</td>\n",
              "      <td>0</td>\n",
              "      <td>presindent bolsonaro hires comedian to offer b...</td>\n",
              "    </tr>\n",
              "    <tr>\n",
              "      <th>25334</th>\n",
              "      <td>14998</td>\n",
              "      <td>0</td>\n",
              "      <td>cops take seized suv for joyride owner tracks ...</td>\n",
              "    </tr>\n",
              "    <tr>\n",
              "      <th>25335</th>\n",
              "      <td>14999</td>\n",
              "      <td>0</td>\n",
              "      <td>dead people shot at celebration of life party</td>\n",
              "    </tr>\n",
              "  </tbody>\n",
              "</table>\n",
              "</div>"
            ],
            "text/plain": [
              "       Unnamed: 0  subreddit                                              title\n",
              "25331       14995          0  cdc urges citizens to avoid spreading coronavi...\n",
              "25332       14996          0  tito s vodka is warning consumers that it can ...\n",
              "25333       14997          0  presindent bolsonaro hires comedian to offer b...\n",
              "25334       14998          0  cops take seized suv for joyride owner tracks ...\n",
              "25335       14999          0      dead people shot at celebration of life party"
            ]
          },
          "metadata": {
            "tags": []
          },
          "execution_count": 3
        }
      ]
    },
    {
      "cell_type": "code",
      "metadata": {
        "id": "HvFlAziYRguP",
        "colab_type": "code",
        "colab": {}
      },
      "source": [
        "X=df['title']\n",
        "y=df['subreddit']\n",
        "X_train, X_test, y_train, y_test = train_test_split(X, y, test_size=0.10,\n",
        "                                                     random_state=42)"
      ],
      "execution_count": 0,
      "outputs": []
    },
    {
      "cell_type": "code",
      "metadata": {
        "id": "86_O0rJs9azM",
        "colab_type": "code",
        "outputId": "c737b97c-102f-4748-ecf2-4e927c7d55f4",
        "colab": {
          "base_uri": "https://localhost:8080/",
          "height": 350
        }
      },
      "source": [
        "import seaborn as sns\n",
        "sns.countplot(x='subreddit', data=df)"
      ],
      "execution_count": 0,
      "outputs": [
        {
          "output_type": "stream",
          "text": [
            "/usr/local/lib/python3.6/dist-packages/statsmodels/tools/_testing.py:19: FutureWarning: pandas.util.testing is deprecated. Use the functions in the public API at pandas.testing instead.\n",
            "  import pandas.util.testing as tm\n"
          ],
          "name": "stderr"
        },
        {
          "output_type": "execute_result",
          "data": {
            "text/plain": [
              "<matplotlib.axes._subplots.AxesSubplot at 0x7f1821080400>"
            ]
          },
          "metadata": {
            "tags": []
          },
          "execution_count": 5
        },
        {
          "output_type": "display_data",
          "data": {
            "image/png": "[encoded data removed]",
            "text/plain": [
              "<Figure size 432x288 with 1 Axes>"
            ]
          },
          "metadata": {
            "tags": [],
            "needs_background": "light"
          }
        }
      ]
    },
    {
      "cell_type": "code",
      "metadata": {
        "id": "EQ9mx7qwHdJ7",
        "colab_type": "code",
        "outputId": "9572bc2b-74bc-4703-85f0-2d733b65b1d8",
        "colab": {
          "base_uri": "https://localhost:8080/",
          "height": 68
        }
      },
      "source": [
        "tokenizer = Tokenizer(num_words = 5000)\n",
        "tokenizer.fit_on_texts(X_train)\n",
        "train_X = tokenizer.texts_to_sequences(X_train)\n",
        "test_X = tokenizer.texts_to_sequences(X_test)\n",
        "\n",
        "vocab_size = len(tokenizer.word_index)+1\n",
        "print(vocab_size)\n",
        "print(X_train[1])\n",
        "print(train_X[1])"
      ],
      "execution_count": 0,
      "outputs": [
        {
          "output_type": "stream",
          "text": [
            "23394\n",
            "florida governor deploys national guard to force residents back into malls movie theaters\n",
            "[3732, 873, 195, 1039, 8, 1892, 165, 3, 126, 144]\n"
          ],
          "name": "stdout"
        }
      ]
    },
    {
      "cell_type": "code",
      "metadata": {
        "id": "9jxangwRKmLb",
        "colab_type": "code",
        "colab": {}
      },
      "source": [
        "maxlen = 50\n",
        "train_X = pad_sequences(train_X, padding = 'post', maxlen=maxlen)\n",
        "test_X = pad_sequences(test_X, padding = 'post', maxlen = maxlen)\n",
        "print(train_X[0, :])"
      ],
      "execution_count": 0,
      "outputs": []
    },
    {
      "cell_type": "code",
      "metadata": {
        "id": "ly4eGD6ru4dK",
        "colab_type": "code",
        "outputId": "11fbd37a-10cd-4117-ca2d-68009dac72ce",
        "colab": {
          "base_uri": "https://localhost:8080/",
          "height": 289
        }
      },
      "source": [
        "embedding_dim = 100\n",
        "#input_dim = X_train.shape[1] #number of features\n",
        "model = Sequential()\n",
        "#model.add(layers.Dense(64,input_dim = input_dim,activation = 'relu'))\n",
        "#model.add(layers.Dense(128, activation = 'relu'))\n",
        "\n",
        "model.add(layers.Embedding(input_dim=vocab_size, output_dim=embedding_dim,\n",
        "                           input_length = maxlen))\n",
        "model.add(layers.Conv1D(128, 5, activation='relu'))\n",
        "model.add(layers.GlobalMaxPool1D())\n",
        "#model.add(layers.Dense(64, activation = 'relu'))\n",
        "#model.add(layers.Dense(10, activation = 'relu'))\n",
        "model.add(layers.Dense(1, activation='sigmoid'))\n",
        "model.compile(loss='binary_crossentropy', optimizer='adam', metrics=['accuracy'])\n",
        "model.summary()"
      ],
      "execution_count": 0,
      "outputs": [
        {
          "output_type": "stream",
          "text": [
            "Model: \"sequential_1\"\n",
            "_________________________________________________________________\n",
            "Layer (type)                 Output Shape              Param #   \n",
            "=================================================================\n",
            "embedding_1 (Embedding)      (None, 50, 100)           2339400   \n",
            "_________________________________________________________________\n",
            "conv1d_1 (Conv1D)            (None, 46, 128)           64128     \n",
            "_________________________________________________________________\n",
            "global_max_pooling1d_1 (Glob (None, 128)               0         \n",
            "_________________________________________________________________\n",
            "dense_1 (Dense)              (None, 1)                 129       \n",
            "=================================================================\n",
            "Total params: 2,403,657\n",
            "Trainable params: 2,403,657\n",
            "Non-trainable params: 0\n",
            "_________________________________________________________________\n"
          ],
          "name": "stdout"
        }
      ]
    },
    {
      "cell_type": "code",
      "metadata": {
        "id": "upBqUs7yvgL3",
        "colab_type": "code",
        "outputId": "9b33e04b-81bf-49b9-96a2-694774ebbfbb",
        "colab": {
          "base_uri": "https://localhost:8080/",
          "height": 292
        }
      },
      "source": [
        "history=model.fit(train_X,y_train,epochs = 6, verbose = 1, validation_data=(test_X,y_test),batch_size=1024)"
      ],
      "execution_count": 0,
      "outputs": [
        {
          "output_type": "stream",
          "text": [
            "/usr/local/lib/python3.6/dist-packages/tensorflow/python/framework/indexed_slices.py:434: UserWarning: Converting sparse IndexedSlices to a dense Tensor of unknown shape. This may consume a large amount of memory.\n",
            "  \"Converting sparse IndexedSlices to a dense Tensor of unknown shape. \"\n"
          ],
          "name": "stderr"
        },
        {
          "output_type": "stream",
          "text": [
            "Train on 22802 samples, validate on 2534 samples\n",
            "Epoch 1/6\n",
            "22802/22802 [==============================] - 9s 385us/step - loss: 0.6576 - accuracy: 0.6144 - val_loss: 0.5794 - val_accuracy: 0.7873\n",
            "Epoch 2/6\n",
            "22802/22802 [==============================] - 8s 362us/step - loss: 0.4651 - accuracy: 0.8281 - val_loss: 0.3592 - val_accuracy: 0.8504\n",
            "Epoch 3/6\n",
            "22802/22802 [==============================] - 8s 366us/step - loss: 0.2968 - accuracy: 0.8783 - val_loss: 0.3020 - val_accuracy: 0.8658\n",
            "Epoch 4/6\n",
            "22802/22802 [==============================] - 8s 366us/step - loss: 0.2308 - accuracy: 0.9091 - val_loss: 0.3017 - val_accuracy: 0.8682\n",
            "Epoch 5/6\n",
            "22802/22802 [==============================] - 8s 366us/step - loss: 0.1939 - accuracy: 0.9272 - val_loss: 0.3131 - val_accuracy: 0.8702\n",
            "Epoch 6/6\n",
            "22802/22802 [==============================] - 8s 361us/step - loss: 0.1666 - accuracy: 0.9399 - val_loss: 0.3285 - val_accuracy: 0.8670\n"
          ],
          "name": "stdout"
        }
      ]
    },
    {
      "cell_type": "code",
      "metadata": {
        "id": "24W0d9haA2FJ",
        "colab_type": "code",
        "outputId": "ab9fd67b-edb3-4afd-8779-b13bdf1bd686",
        "colab": {
          "base_uri": "https://localhost:8080/",
          "height": 51
        }
      },
      "source": [
        "loss, accuracy = model.evaluate(train_X, y_train, verbose=False)\n",
        "print(\"Training Accuracy: {:.4f}\".format(accuracy))\n",
        "loss, accuracy = model.evaluate(test_X, y_test, verbose=False)\n",
        "print(\"Testing Accuracy:  {:.4f}\".format(accuracy))"
      ],
      "execution_count": 0,
      "outputs": [
        {
          "output_type": "stream",
          "text": [
            "Training Accuracy: 0.9518\n",
            "Testing Accuracy:  0.8670\n"
          ],
          "name": "stdout"
        }
      ]
    },
    {
      "cell_type": "code",
      "metadata": {
        "id": "fyqIGmQZWSNL",
        "colab_type": "code",
        "colab": {}
      },
      "source": [
        ""
      ],
      "execution_count": 0,
      "outputs": []
    }
  ]
}