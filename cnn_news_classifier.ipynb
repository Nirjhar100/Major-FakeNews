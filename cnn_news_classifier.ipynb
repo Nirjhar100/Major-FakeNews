{
  "nbformat": 4,
  "nbformat_minor": 0,
  "metadata": {
    "colab": {
      "name": "cnn_news_classifier.ipynb",
      "provenance": [],
      "collapsed_sections": [],
      "authorship_tag": "ABX9TyOJbFDbGb+xzAHNIxN7Zf+E",
      "include_colab_link": true
    },
    "kernelspec": {
      "name": "python3",
      "display_name": "Python 3"
    }
  },
  "cells": [
    {
      "cell_type": "markdown",
      "metadata": {
        "id": "view-in-github",
        "colab_type": "text"
      },
      "source": [
        "<a href=\"https://colab.research.google.com/github/Nirjhar100/Major-FakeNews/blob/master/cnn_news_classifier.ipynb\" target=\"_parent\"><img src=\"https://colab.research.google.com/assets/colab-badge.svg\" alt=\"Open In Colab\"/></a>"
      ]
    },
    {
      "cell_type": "code",
      "metadata": {
        "id": "Ut6_5YN_O8qb",
        "colab_type": "code",
        "colab": {}
      },
      "source": [
        "import pandas as pd\n",
        "from sklearn.model_selection import train_test_split\n",
        "from sklearn.feature_extraction.text import CountVectorizer\n",
        "from sklearn.naive_bayes import MultinomialNB\n",
        "from keras.models import Sequential\n",
        "from keras import layers\n",
        "from keras.preprocessing.text import Tokenizer\n",
        "from keras.preprocessing.sequence import pad_sequences"
      ],
      "execution_count": 0,
      "outputs": []
    },
    {
      "cell_type": "code",
      "metadata": {
        "id": "mZROWo9XPT-A",
        "colab_type": "code",
        "outputId": "e6176080-aff3-4173-e7b5-7ee7ba7cd007",
        "colab": {
          "base_uri": "https://localhost:8080/",
          "height": 221
        }
      },
      "source": [
        "df = pd.read_csv('./clean_data.csv')\n",
        "print(df.shape)\n",
        "df.tail()"
      ],
      "execution_count": 0,
      "outputs": [
        {
          "output_type": "stream",
          "text": [
            "(16749, 3)\n"
          ],
          "name": "stdout"
        },
        {
          "output_type": "execute_result",
          "data": {
            "text/html": [
              "<div>\n",
              "<style scoped>\n",
              "    .dataframe tbody tr th:only-of-type {\n",
              "        vertical-align: middle;\n",
              "    }\n",
              "\n",
              "    .dataframe tbody tr th {\n",
              "        vertical-align: top;\n",
              "    }\n",
              "\n",
              "    .dataframe thead th {\n",
              "        text-align: right;\n",
              "    }\n",
              "</style>\n",
              "<table border=\"1\" class=\"dataframe\">\n",
              "  <thead>\n",
              "    <tr style=\"text-align: right;\">\n",
              "      <th></th>\n",
              "      <th>Unnamed: 0</th>\n",
              "      <th>subreddit</th>\n",
              "      <th>title</th>\n",
              "    </tr>\n",
              "  </thead>\n",
              "  <tbody>\n",
              "    <tr>\n",
              "      <th>16744</th>\n",
              "      <td>9994</td>\n",
              "      <td>0</td>\n",
              "      <td>nh s st coronavirus patient told to stay isola...</td>\n",
              "    </tr>\n",
              "    <tr>\n",
              "      <th>16745</th>\n",
              "      <td>9995</td>\n",
              "      <td>0</td>\n",
              "      <td>new hampshire s st coronavirus patient ignores...</td>\n",
              "    </tr>\n",
              "    <tr>\n",
              "      <th>16746</th>\n",
              "      <td>9996</td>\n",
              "      <td>0</td>\n",
              "      <td>opinion i just remembered joe biden is fine</td>\n",
              "    </tr>\n",
              "    <tr>\n",
              "      <th>16747</th>\n",
              "      <td>9997</td>\n",
              "      <td>0</td>\n",
              "      <td>syria war three year old girl who laughed at b...</td>\n",
              "    </tr>\n",
              "    <tr>\n",
              "      <th>16748</th>\n",
              "      <td>9998</td>\n",
              "      <td>0</td>\n",
              "      <td>peeps are the latest food you can stick on you...</td>\n",
              "    </tr>\n",
              "  </tbody>\n",
              "</table>\n",
              "</div>"
            ],
            "text/plain": [
              "       Unnamed: 0  subreddit                                              title\n",
              "16744        9994          0  nh s st coronavirus patient told to stay isola...\n",
              "16745        9995          0  new hampshire s st coronavirus patient ignores...\n",
              "16746        9996          0        opinion i just remembered joe biden is fine\n",
              "16747        9997          0  syria war three year old girl who laughed at b...\n",
              "16748        9998          0  peeps are the latest food you can stick on you..."
            ]
          },
          "metadata": {
            "tags": []
          },
          "execution_count": 78
        }
      ]
    },
    {
      "cell_type": "code",
      "metadata": {
        "id": "UH3gTG8BRKni",
        "colab_type": "code",
        "colab": {}
      },
      "source": [
        "df = df.drop(columns=['Unnamed: 0'])"
      ],
      "execution_count": 0,
      "outputs": []
    },
    {
      "cell_type": "code",
      "metadata": {
        "id": "q7OJOanvRQJh",
        "colab_type": "code",
        "outputId": "a33433a9-dc44-432f-8e95-88dfe6bfca46",
        "colab": {
          "base_uri": "https://localhost:8080/",
          "height": 34
        }
      },
      "source": [
        "print(df.columns.values)"
      ],
      "execution_count": 0,
      "outputs": [
        {
          "output_type": "stream",
          "text": [
            "['subreddit' 'title']\n"
          ],
          "name": "stdout"
        }
      ]
    },
    {
      "cell_type": "code",
      "metadata": {
        "id": "HvFlAziYRguP",
        "colab_type": "code",
        "colab": {}
      },
      "source": [
        "X=df['title']\n",
        "y=df['subreddit']\n",
        "X_train, X_test, y_train, y_test = train_test_split(X, y, test_size=0.25,\n",
        "                                                     random_state=42)"
      ],
      "execution_count": 0,
      "outputs": []
    },
    {
      "cell_type": "code",
      "metadata": {
        "id": "mXZjY_c3su0p",
        "colab_type": "code",
        "outputId": "7405d9c4-d67e-47a3-9ace-bc2a91c8dca2",
        "colab": {
          "base_uri": "https://localhost:8080/",
          "height": 51
        }
      },
      "source": [
        "cv = CountVectorizer()\n",
        "cv.fit(X_train)\n",
        "X_train = cv.transform(X_train)\n",
        "X_test = cv.transform(X_test)\n",
        "X_train"
      ],
      "execution_count": 0,
      "outputs": [
        {
          "output_type": "execute_result",
          "data": {
            "text/plain": [
              "<12561x17725 sparse matrix of type '<class 'numpy.int64'>'\n",
              "\twith 151961 stored elements in Compressed Sparse Row format>"
            ]
          },
          "metadata": {
            "tags": []
          },
          "execution_count": 5
        }
      ]
    },
    {
      "cell_type": "code",
      "metadata": {
        "id": "8k57K791uDux",
        "colab_type": "code",
        "outputId": "4ee78e9b-3ca3-4022-e03d-4e76aaa6e7a3",
        "colab": {
          "base_uri": "https://localhost:8080/",
          "height": 34
        }
      },
      "source": [
        "classifier = MultinomialNB()\n",
        "classifier.fit(X_train,y_train)\n",
        "score = classifier.score(X_test,y_test)\n",
        "print(\"Accuracy:\",score)"
      ],
      "execution_count": 0,
      "outputs": [
        {
          "output_type": "stream",
          "text": [
            "Accuracy: 0.8724928366762178\n"
          ],
          "name": "stdout"
        }
      ]
    },
    {
      "cell_type": "code",
      "metadata": {
        "id": "EQ9mx7qwHdJ7",
        "colab_type": "code",
        "outputId": "bce9ffeb-8300-4d0c-f605-24092cfce02e",
        "colab": {
          "base_uri": "https://localhost:8080/",
          "height": 68
        }
      },
      "source": [
        "tokenizer = Tokenizer(num_words = 5000)\n",
        "tokenizer.fit_on_texts(X_train)\n",
        "train_X = tokenizer.texts_to_sequences(X_train)\n",
        "test_X = tokenizer.texts_to_sequences(X_test)\n",
        "\n",
        "vocab_size = len(tokenizer.word_index)+1\n",
        "print(vocab_size)\n",
        "print(X_train[1])\n",
        "print(train_X[1])"
      ],
      "execution_count": 0,
      "outputs": [
        {
          "output_type": "stream",
          "text": [
            "17752\n",
            "grinning tim cook announces new iphone will no longer be compatible with airpods\n",
            "[18, 6, 352, 3482, 2073, 3947, 3948, 23, 698, 57]\n"
          ],
          "name": "stdout"
        }
      ]
    },
    {
      "cell_type": "code",
      "metadata": {
        "id": "9jxangwRKmLb",
        "colab_type": "code",
        "outputId": "986eb512-fe20-44e1-bd14-6e36a35b2cc6",
        "colab": {
          "base_uri": "https://localhost:8080/",
          "height": 119
        }
      },
      "source": [
        "maxlen = 100\n",
        "train_X = pad_sequences(train_X, padding = 'post', maxlen=maxlen)\n",
        "test_X = pad_sequences(test_X, padding = 'post', maxlen = maxlen)\n",
        "print(train_X[0, :])"
      ],
      "execution_count": 0,
      "outputs": [
        {
          "output_type": "stream",
          "text": [
            "[ 17 845 679  11 680 608 445  47   0   0   0   0   0   0   0   0   0   0\n",
            "   0   0   0   0   0   0   0   0   0   0   0   0   0   0   0   0   0   0\n",
            "   0   0   0   0   0   0   0   0   0   0   0   0   0   0   0   0   0   0\n",
            "   0   0   0   0   0   0   0   0   0   0   0   0   0   0   0   0   0   0\n",
            "   0   0   0   0   0   0   0   0   0   0   0   0   0   0   0   0   0   0\n",
            "   0   0   0   0   0   0   0   0   0   0]\n"
          ],
          "name": "stdout"
        }
      ]
    },
    {
      "cell_type": "code",
      "metadata": {
        "id": "ly4eGD6ru4dK",
        "colab_type": "code",
        "outputId": "d58b0879-6352-4786-8404-281b991ec70b",
        "colab": {
          "base_uri": "https://localhost:8080/",
          "height": 323
        }
      },
      "source": [
        "embedding_dim = 50\n",
        "#input_dim = X_train.shape[1] #number of features\n",
        "model = Sequential()\n",
        "#model.add(layers.Dense(64,input_dim = input_dim,activation = 'relu'))\n",
        "#model.add(layers.Dense(128, activation = 'relu'))\n",
        "\n",
        "model.add(layers.Embedding(input_dim=vocab_size, output_dim=embedding_dim,\n",
        "                           input_length = maxlen))\n",
        "model.add(layers.GlobalMaxPool1D())\n",
        "model.add(layers.Dense(64, activation = 'relu'))\n",
        "model.add(layers.Dense(10, activation = 'relu'))\n",
        "model.add(layers.Dense(1, activation='sigmoid'))\n",
        "model.compile(loss='binary_crossentropy', optimizer='adam', metrics=['accuracy'])\n",
        "model.summary()"
      ],
      "execution_count": 0,
      "outputs": [
        {
          "output_type": "stream",
          "text": [
            "Model: \"sequential_23\"\n",
            "_________________________________________________________________\n",
            "Layer (type)                 Output Shape              Param #   \n",
            "=================================================================\n",
            "embedding_15 (Embedding)     (None, 100, 50)           887600    \n",
            "_________________________________________________________________\n",
            "global_max_pooling1d_7 (Glob (None, 50)                0         \n",
            "_________________________________________________________________\n",
            "dense_61 (Dense)             (None, 64)                3264      \n",
            "_________________________________________________________________\n",
            "dense_62 (Dense)             (None, 10)                650       \n",
            "_________________________________________________________________\n",
            "dense_63 (Dense)             (None, 1)                 11        \n",
            "=================================================================\n",
            "Total params: 891,525\n",
            "Trainable params: 891,525\n",
            "Non-trainable params: 0\n",
            "_________________________________________________________________\n"
          ],
          "name": "stdout"
        }
      ]
    },
    {
      "cell_type": "code",
      "metadata": {
        "id": "upBqUs7yvgL3",
        "colab_type": "code",
        "outputId": "5edefd81-97b8-4bd5-aab7-cc81d67f56e2",
        "colab": {
          "base_uri": "https://localhost:8080/",
          "height": 428
        }
      },
      "source": [
        "history=model.fit(train_X,y_train,epochs = 10, verbose = 1, validation_data=(test_X,y_test),batch_size=1024)"
      ],
      "execution_count": 0,
      "outputs": [
        {
          "output_type": "stream",
          "text": [
            "/usr/local/lib/python3.6/dist-packages/tensorflow/python/framework/indexed_slices.py:434: UserWarning: Converting sparse IndexedSlices to a dense Tensor of unknown shape. This may consume a large amount of memory.\n",
            "  \"Converting sparse IndexedSlices to a dense Tensor of unknown shape. \"\n"
          ],
          "name": "stderr"
        },
        {
          "output_type": "stream",
          "text": [
            "Train on 12561 samples, validate on 4188 samples\n",
            "Epoch 1/10\n",
            "12561/12561 [==============================] - 1s 52us/step - loss: 0.6900 - accuracy: 0.5273 - val_loss: 0.6840 - val_accuracy: 0.5511\n",
            "Epoch 2/10\n",
            "12561/12561 [==============================] - 1s 41us/step - loss: 0.6789 - accuracy: 0.5454 - val_loss: 0.6710 - val_accuracy: 0.5511\n",
            "Epoch 3/10\n",
            "12561/12561 [==============================] - 1s 41us/step - loss: 0.6555 - accuracy: 0.5840 - val_loss: 0.6375 - val_accuracy: 0.6843\n",
            "Epoch 4/10\n",
            "12561/12561 [==============================] - 1s 43us/step - loss: 0.6007 - accuracy: 0.7788 - val_loss: 0.5724 - val_accuracy: 0.7942\n",
            "Epoch 5/10\n",
            "12561/12561 [==============================] - 1s 42us/step - loss: 0.5099 - accuracy: 0.8499 - val_loss: 0.4827 - val_accuracy: 0.8419\n",
            "Epoch 6/10\n",
            "12561/12561 [==============================] - 1s 42us/step - loss: 0.3968 - accuracy: 0.8976 - val_loss: 0.3946 - val_accuracy: 0.8553\n",
            "Epoch 7/10\n",
            "12561/12561 [==============================] - 1s 42us/step - loss: 0.2911 - accuracy: 0.9180 - val_loss: 0.3340 - val_accuracy: 0.8677\n",
            "Epoch 8/10\n",
            "12561/12561 [==============================] - 1s 43us/step - loss: 0.2129 - accuracy: 0.9357 - val_loss: 0.3065 - val_accuracy: 0.8739\n",
            "Epoch 9/10\n",
            "12561/12561 [==============================] - 1s 41us/step - loss: 0.1604 - accuracy: 0.9497 - val_loss: 0.2993 - val_accuracy: 0.8763\n",
            "Epoch 10/10\n",
            "12561/12561 [==============================] - 1s 43us/step - loss: 0.1234 - accuracy: 0.9641 - val_loss: 0.3030 - val_accuracy: 0.8751\n"
          ],
          "name": "stdout"
        }
      ]
    },
    {
      "cell_type": "code",
      "metadata": {
        "id": "24W0d9haA2FJ",
        "colab_type": "code",
        "outputId": "b3f2bad0-d7ea-454e-a6ce-ccd94815d06c",
        "colab": {
          "base_uri": "https://localhost:8080/",
          "height": 51
        }
      },
      "source": [
        "loss, accuracy = model.evaluate(train_X, y_train, verbose=False)\n",
        "print(\"Training Accuracy: {:.4f}\".format(accuracy))\n",
        "loss, accuracy = model.evaluate(test_X, y_test, verbose=False)\n",
        "print(\"Testing Accuracy:  {:.4f}\".format(accuracy))"
      ],
      "execution_count": 0,
      "outputs": [
        {
          "output_type": "stream",
          "text": [
            "Training Accuracy: 0.9731\n",
            "Testing Accuracy:  0.8751\n"
          ],
          "name": "stdout"
        }
      ]
    },
    {
      "cell_type": "code",
      "metadata": {
        "id": "Zlm53Wr0BDjl",
        "colab_type": "code",
        "colab": {}
      },
      "source": [
        ""
      ],
      "execution_count": 0,
      "outputs": []
    }
  ]
}