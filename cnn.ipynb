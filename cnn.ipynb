{
  "nbformat": 4,
  "nbformat_minor": 0,
  "metadata": {
    "colab": {
      "name": "cnn.ipynb",
      "provenance": [],
      "collapsed_sections": [],
      "authorship_tag": "ABX9TyOyKm1F1XsJKiA81QvCjKv4",
      "include_colab_link": true
    },
    "kernelspec": {
      "name": "python3",
      "display_name": "Python 3"
    }
  },
  "cells": [
    {
      "cell_type": "markdown",
      "metadata": {
        "id": "view-in-github",
        "colab_type": "text"
      },
      "source": [
        "<a href=\"https://colab.research.google.com/github/Nirjhar100/Major-FakeNews/blob/master/cnn.ipynb\" target=\"_parent\"><img src=\"https://colab.research.google.com/assets/colab-badge.svg\" alt=\"Open In Colab\"/></a>"
      ]
    },
    {
      "cell_type": "code",
      "metadata": {
        "id": "Ut6_5YN_O8qb",
        "colab_type": "code",
        "colab": {}
      },
      "source": [
        "import pandas as pd\n",
        "from sklearn.model_selection import train_test_split\n",
        "from keras.models import Sequential\n",
        "from keras import layers\n",
        "from keras.layers import Dropout\n",
        "from keras.preprocessing.text import Tokenizer\n",
        "from keras.preprocessing.sequence import pad_sequences"
      ],
      "execution_count": 0,
      "outputs": []
    },
    {
      "cell_type": "code",
      "metadata": {
        "id": "mZROWo9XPT-A",
        "colab_type": "code",
        "outputId": "c06c1500-52ad-4f49-e103-7dea42c82c70",
        "colab": {
          "base_uri": "https://localhost:8080/",
          "height": 221
        }
      },
      "source": [
        "df = pd.read_csv('./clean_data.csv')\n",
        "print(df.shape)\n",
        "df.tail()"
      ],
      "execution_count": 0,
      "outputs": [
        {
          "output_type": "stream",
          "text": [
            "(31658, 3)\n"
          ],
          "name": "stdout"
        },
        {
          "output_type": "execute_result",
          "data": {
            "text/html": [
              "<div>\n",
              "<style scoped>\n",
              "    .dataframe tbody tr th:only-of-type {\n",
              "        vertical-align: middle;\n",
              "    }\n",
              "\n",
              "    .dataframe tbody tr th {\n",
              "        vertical-align: top;\n",
              "    }\n",
              "\n",
              "    .dataframe thead th {\n",
              "        text-align: right;\n",
              "    }\n",
              "</style>\n",
              "<table border=\"1\" class=\"dataframe\">\n",
              "  <thead>\n",
              "    <tr style=\"text-align: right;\">\n",
              "      <th></th>\n",
              "      <th>Unnamed: 0</th>\n",
              "      <th>subreddit</th>\n",
              "      <th>title</th>\n",
              "    </tr>\n",
              "  </thead>\n",
              "  <tbody>\n",
              "    <tr>\n",
              "      <th>31653</th>\n",
              "      <td>19991</td>\n",
              "      <td>0</td>\n",
              "      <td>after confessing to playing  hours of breath o...</td>\n",
              "    </tr>\n",
              "    <tr>\n",
              "      <th>31654</th>\n",
              "      <td>19992</td>\n",
              "      <td>0</td>\n",
              "      <td>slipknot singer says imagine dragons have repl...</td>\n",
              "    </tr>\n",
              "    <tr>\n",
              "      <th>31655</th>\n",
              "      <td>19993</td>\n",
              "      <td>0</td>\n",
              "      <td>couple lies stranger than fiction</td>\n",
              "    </tr>\n",
              "    <tr>\n",
              "      <th>31656</th>\n",
              "      <td>19995</td>\n",
              "      <td>0</td>\n",
              "      <td>ambulance theft suspect i should ve jacked a car</td>\n",
              "    </tr>\n",
              "    <tr>\n",
              "      <th>31657</th>\n",
              "      <td>19998</td>\n",
              "      <td>0</td>\n",
              "      <td>byu pole vaulter pierces scrotum in horrific a...</td>\n",
              "    </tr>\n",
              "  </tbody>\n",
              "</table>\n",
              "</div>"
            ],
            "text/plain": [
              "       Unnamed: 0  subreddit                                              title\n",
              "31653       19991          0  after confessing to playing  hours of breath o...\n",
              "31654       19992          0  slipknot singer says imagine dragons have repl...\n",
              "31655       19993          0                 couple lies stranger than fiction \n",
              "31656       19995          0  ambulance theft suspect i should ve jacked a car \n",
              "31657       19998          0  byu pole vaulter pierces scrotum in horrific a..."
            ]
          },
          "metadata": {
            "tags": []
          },
          "execution_count": 59
        }
      ]
    },
    {
      "cell_type": "code",
      "metadata": {
        "id": "HvFlAziYRguP",
        "colab_type": "code",
        "colab": {}
      },
      "source": [
        "X=df['title']\n",
        "y=df['subreddit']\n",
        "X_train, X_test, y_train, y_test = train_test_split(X, y, test_size=0.10,\n",
        "                                                     random_state=42)"
      ],
      "execution_count": 0,
      "outputs": []
    },
    {
      "cell_type": "code",
      "metadata": {
        "id": "EQ9mx7qwHdJ7",
        "colab_type": "code",
        "outputId": "0a948bae-31e6-4cfc-c967-4895c10b532c",
        "colab": {
          "base_uri": "https://localhost:8080/",
          "height": 51
        }
      },
      "source": [
        "tokenizer = Tokenizer(num_words = 5000)\n",
        "tokenizer.fit_on_texts(X_train)\n",
        "X_train = tokenizer.texts_to_sequences(X_train)\n",
        "X_test = tokenizer.texts_to_sequences(X_test)\n",
        "\n",
        "vocab_size = len(tokenizer.word_index)+1\n",
        "print(vocab_size)\n",
        "print(X_train[1])"
      ],
      "execution_count": 0,
      "outputs": [
        {
          "output_type": "stream",
          "text": [
            "25649\n",
            "[4428, 4429, 4430, 4096, 10, 511]\n"
          ],
          "name": "stdout"
        }
      ]
    },
    {
      "cell_type": "code",
      "metadata": {
        "id": "9jxangwRKmLb",
        "colab_type": "code",
        "outputId": "0faa7503-87ec-4573-e255-1f97a69407ed",
        "colab": {
          "base_uri": "https://localhost:8080/",
          "height": 85
        }
      },
      "source": [
        "maxlen = 50\n",
        "X_train = pad_sequences(X_train, padding = 'post', maxlen=maxlen)\n",
        "X_test = pad_sequences(X_test, padding = 'post', maxlen = maxlen)\n",
        "print(X_train[0, :])"
      ],
      "execution_count": 0,
      "outputs": [
        {
          "output_type": "stream",
          "text": [
            "[  38 4771    5   29   78   33 4772    2 1493  149    2 1278   12  714\n",
            " 2774 2659    6  633 2244   10  613    0    0    0    0    0    0    0\n",
            "    0    0    0    0    0    0    0    0    0    0    0    0    0    0\n",
            "    0    0    0    0    0    0    0    0]\n"
          ],
          "name": "stdout"
        }
      ]
    },
    {
      "cell_type": "code",
      "metadata": {
        "id": "ly4eGD6ru4dK",
        "colab_type": "code",
        "outputId": "a55df5b9-d62e-47f0-bf7d-93a40b5edffd",
        "colab": {
          "base_uri": "https://localhost:8080/",
          "height": 357
        }
      },
      "source": [
        "embedding_dim = 100\n",
        "#input_dim = X_train.shape[1] #number of features\n",
        "model = Sequential()\n",
        "\n",
        "model.add(layers.Embedding(input_dim=vocab_size, output_dim=embedding_dim,\n",
        "                           input_length = maxlen))\n",
        "model.add(layers.Conv1D(128, 5, activation='relu'))\n",
        "model.add(layers.GlobalMaxPool1D())\n",
        "model.add(layers.Dense(32, activation = 'relu'))\n",
        "model.add(layers.Dense(10, activation = 'relu'))\n",
        "model.add(layers.Dense(1, activation='sigmoid'))\n",
        "model.compile(loss='binary_crossentropy', optimizer='adam', metrics=['accuracy'])\n",
        "model.summary()"
      ],
      "execution_count": 0,
      "outputs": [
        {
          "output_type": "stream",
          "text": [
            "Model: \"sequential_26\"\n",
            "_________________________________________________________________\n",
            "Layer (type)                 Output Shape              Param #   \n",
            "=================================================================\n",
            "embedding_25 (Embedding)     (None, 50, 100)           2564900   \n",
            "_________________________________________________________________\n",
            "conv1d_23 (Conv1D)           (None, 46, 128)           64128     \n",
            "_________________________________________________________________\n",
            "global_max_pooling1d_22 (Glo (None, 128)               0         \n",
            "_________________________________________________________________\n",
            "dense_39 (Dense)             (None, 32)                4128      \n",
            "_________________________________________________________________\n",
            "dense_40 (Dense)             (None, 10)                330       \n",
            "_________________________________________________________________\n",
            "dense_41 (Dense)             (None, 1)                 11        \n",
            "=================================================================\n",
            "Total params: 2,633,497\n",
            "Trainable params: 2,633,497\n",
            "Non-trainable params: 0\n",
            "_________________________________________________________________\n"
          ],
          "name": "stdout"
        }
      ]
    },
    {
      "cell_type": "code",
      "metadata": {
        "id": "upBqUs7yvgL3",
        "colab_type": "code",
        "outputId": "942a7d0f-06c5-4f04-cd00-16cd691a2b4d",
        "colab": {
          "base_uri": "https://localhost:8080/",
          "height": 292
        }
      },
      "source": [
        "history=model.fit(X_train,y_train,epochs = 6, verbose = 1, validation_data=(X_test,y_test),batch_size=1024)"
      ],
      "execution_count": 0,
      "outputs": [
        {
          "output_type": "stream",
          "text": [
            "/usr/local/lib/python3.6/dist-packages/tensorflow/python/framework/indexed_slices.py:434: UserWarning: Converting sparse IndexedSlices to a dense Tensor of unknown shape. This may consume a large amount of memory.\n",
            "  \"Converting sparse IndexedSlices to a dense Tensor of unknown shape. \"\n"
          ],
          "name": "stderr"
        },
        {
          "output_type": "stream",
          "text": [
            "Train on 28492 samples, validate on 3166 samples\n",
            "Epoch 1/6\n",
            "28492/28492 [==============================] - 13s 449us/step - loss: 0.6531 - accuracy: 0.6552 - val_loss: 0.5469 - val_accuracy: 0.7979\n",
            "Epoch 2/6\n",
            "28492/28492 [==============================] - 13s 441us/step - loss: 0.3850 - accuracy: 0.8449 - val_loss: 0.3384 - val_accuracy: 0.8544\n",
            "Epoch 3/6\n",
            "28492/28492 [==============================] - 13s 439us/step - loss: 0.2490 - accuracy: 0.8962 - val_loss: 0.3167 - val_accuracy: 0.8632\n",
            "Epoch 4/6\n",
            "28492/28492 [==============================] - 13s 441us/step - loss: 0.1924 - accuracy: 0.9249 - val_loss: 0.3265 - val_accuracy: 0.8617\n",
            "Epoch 5/6\n",
            "28492/28492 [==============================] - 13s 440us/step - loss: 0.1484 - accuracy: 0.9456 - val_loss: 0.3566 - val_accuracy: 0.8645\n",
            "Epoch 6/6\n",
            "28492/28492 [==============================] - 13s 441us/step - loss: 0.1111 - accuracy: 0.9604 - val_loss: 0.3959 - val_accuracy: 0.8664\n"
          ],
          "name": "stdout"
        }
      ]
    },
    {
      "cell_type": "code",
      "metadata": {
        "id": "24W0d9haA2FJ",
        "colab_type": "code",
        "outputId": "451019e2-b7ed-4c96-fbd8-818e91ed45e5",
        "colab": {
          "base_uri": "https://localhost:8080/",
          "height": 51
        }
      },
      "source": [
        "loss, accuracy = model.evaluate(X_train, y_train, verbose=False)\n",
        "print(\"Training Accuracy: {:.4f}\".format(accuracy))\n",
        "loss, accuracy = model.evaluate(X_test, y_test, verbose=False)\n",
        "print(\"Testing Accuracy:  {:.4f}\".format(accuracy))"
      ],
      "execution_count": 0,
      "outputs": [
        {
          "output_type": "stream",
          "text": [
            "Training Accuracy: 0.9768\n",
            "Testing Accuracy:  0.8664\n"
          ],
          "name": "stdout"
        }
      ]
    },
    {
      "cell_type": "code",
      "metadata": {
        "id": "fyqIGmQZWSNL",
        "colab_type": "code",
        "colab": {}
      },
      "source": [
        ""
      ],
      "execution_count": 0,
      "outputs": []
    }
  ]
}