{
  "nbformat": 4,
  "nbformat_minor": 0,
  "metadata": {
    "colab": {
      "name": "lstm.ipynb",
      "provenance": [],
      "collapsed_sections": [],
      "authorship_tag": "ABX9TyO+bZJgD2n1fReX9mxPGRs+",
      "include_colab_link": true
    },
    "kernelspec": {
      "name": "python3",
      "display_name": "Python 3"
    }
  },
  "cells": [
    {
      "cell_type": "markdown",
      "metadata": {
        "id": "view-in-github",
        "colab_type": "text"
      },
      "source": [
        "<a href=\"https://colab.research.google.com/github/Nirjhar100/Major-FakeNews/blob/master/lstm.ipynb\" target=\"_parent\"><img src=\"https://colab.research.google.com/assets/colab-badge.svg\" alt=\"Open In Colab\"/></a>"
      ]
    },
    {
      "cell_type": "code",
      "metadata": {
        "id": "xA0bT5pfLxuO",
        "colab_type": "code",
        "colab": {}
      },
      "source": [
        "import pandas as pd\n",
        "from sklearn.model_selection import train_test_split\n",
        "from keras.models import Sequential\n",
        "from keras import layers\n",
        "from keras.layers import Dense, Dropout, Activation\n",
        "from keras.layers import LSTM\n",
        "from keras.preprocessing.text import Tokenizer\n",
        "from keras.preprocessing.sequence import pad_sequences"
      ],
      "execution_count": 0,
      "outputs": []
    },
    {
      "cell_type": "code",
      "metadata": {
        "id": "7HbIa09SAW8y",
        "colab_type": "code",
        "colab": {}
      },
      "source": [
        "df = pd.read_csv('./clean_data.csv')\n",
        "X=df['title']\n",
        "y=df['subreddit']\n",
        "X_train, X_test, y_train, y_test = train_test_split(X, y, test_size=0.10,\n",
        "                                                     random_state=42)"
      ],
      "execution_count": 0,
      "outputs": []
    },
    {
      "cell_type": "code",
      "metadata": {
        "id": "iAq04MU8AigT",
        "colab_type": "code",
        "colab": {}
      },
      "source": [
        "tokenizer = Tokenizer(num_words = 5000)\n",
        "tokenizer.fit_on_texts(X_train)\n",
        "X_train = tokenizer.texts_to_sequences(X_train)\n",
        "X_test = tokenizer.texts_to_sequences(X_test)\n",
        "\n",
        "vocab_size = len(tokenizer.word_index)+1\n",
        "maxlen = 50\n",
        "\n",
        "X_train = pad_sequences(X_train, padding = 'post', maxlen=maxlen)\n",
        "X_test = pad_sequences(X_test, padding = 'post', maxlen = maxlen)"
      ],
      "execution_count": 0,
      "outputs": []
    },
    {
      "cell_type": "code",
      "metadata": {
        "id": "3xBh_vTuA37Q",
        "colab_type": "code",
        "outputId": "4507cc47-0056-431a-8e5f-677116740b30",
        "colab": {
          "base_uri": "https://localhost:8080/",
          "height": 289
        }
      },
      "source": [
        "embedding_dim = 100\n",
        "model = Sequential()\n",
        "model.add(layers.Embedding(input_dim=vocab_size, output_dim=embedding_dim,\n",
        "                           input_length = maxlen))\n",
        "model.add(LSTM(128))\n",
        "model.add(layers.Dense(10, activation = 'relu'))\n",
        "model.add(layers.Dense(1, activation='sigmoid'))\n",
        "model.compile(loss='binary_crossentropy', optimizer='adam', metrics=['accuracy'])\n",
        "model.summary()"
      ],
      "execution_count": 58,
      "outputs": [
        {
          "output_type": "stream",
          "text": [
            "Model: \"sequential_28\"\n",
            "_________________________________________________________________\n",
            "Layer (type)                 Output Shape              Param #   \n",
            "=================================================================\n",
            "embedding_28 (Embedding)     (None, 50, 100)           2564900   \n",
            "_________________________________________________________________\n",
            "lstm_27 (LSTM)               (None, 128)               117248    \n",
            "_________________________________________________________________\n",
            "dense_26 (Dense)             (None, 10)                1290      \n",
            "_________________________________________________________________\n",
            "dense_27 (Dense)             (None, 1)                 11        \n",
            "=================================================================\n",
            "Total params: 2,683,449\n",
            "Trainable params: 2,683,449\n",
            "Non-trainable params: 0\n",
            "_________________________________________________________________\n"
          ],
          "name": "stdout"
        }
      ]
    },
    {
      "cell_type": "code",
      "metadata": {
        "id": "MpbS7lSPBeIi",
        "colab_type": "code",
        "outputId": "8953220e-5e7b-4ee4-ef70-b18c27d5ffb0",
        "colab": {
          "base_uri": "https://localhost:8080/",
          "height": 292
        }
      },
      "source": [
        "history=model.fit(X_train,y_train,epochs = 6, verbose = 1, validation_data=(X_test,y_test),batch_size=1024)"
      ],
      "execution_count": 59,
      "outputs": [
        {
          "output_type": "stream",
          "text": [
            "/usr/local/lib/python3.6/dist-packages/tensorflow/python/framework/indexed_slices.py:434: UserWarning: Converting sparse IndexedSlices to a dense Tensor of unknown shape. This may consume a large amount of memory.\n",
            "  \"Converting sparse IndexedSlices to a dense Tensor of unknown shape. \"\n"
          ],
          "name": "stderr"
        },
        {
          "output_type": "stream",
          "text": [
            "Train on 28492 samples, validate on 3166 samples\n",
            "Epoch 1/6\n",
            "28492/28492 [==============================] - 36s 1ms/step - loss: 0.6932 - accuracy: 0.5080 - val_loss: 0.6928 - val_accuracy: 0.5136\n",
            "Epoch 2/6\n",
            "28492/28492 [==============================] - 36s 1ms/step - loss: 0.6923 - accuracy: 0.5165 - val_loss: 0.6700 - val_accuracy: 0.6437\n",
            "Epoch 3/6\n",
            "28492/28492 [==============================] - 36s 1ms/step - loss: 0.4637 - accuracy: 0.7965 - val_loss: 0.3894 - val_accuracy: 0.8449\n",
            "Epoch 4/6\n",
            "28492/28492 [==============================] - 36s 1ms/step - loss: 0.2952 - accuracy: 0.8813 - val_loss: 0.3337 - val_accuracy: 0.8531\n",
            "Epoch 5/6\n",
            "28492/28492 [==============================] - 36s 1ms/step - loss: 0.2467 - accuracy: 0.9012 - val_loss: 0.3276 - val_accuracy: 0.8566\n",
            "Epoch 6/6\n",
            "28492/28492 [==============================] - 36s 1ms/step - loss: 0.2247 - accuracy: 0.9117 - val_loss: 0.3186 - val_accuracy: 0.8560\n"
          ],
          "name": "stdout"
        }
      ]
    },
    {
      "cell_type": "code",
      "metadata": {
        "id": "60FDGeCEB_dh",
        "colab_type": "code",
        "colab": {}
      },
      "source": [
        ""
      ],
      "execution_count": 0,
      "outputs": []
    }
  ]
}