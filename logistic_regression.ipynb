{
 "cells": [
  {
   "cell_type": "code",
   "execution_count": 13,
   "metadata": {},
   "outputs": [],
   "source": [
    "# import numpy as np\n",
    "import pandas as pd\n",
    "# Natural Language Processing\n",
    "from sklearn.feature_extraction import stop_words\n",
    "from sklearn.feature_extraction.text import CountVectorizer, TfidfVectorizer\n",
    "\n",
    "# Modeling\n",
    "from sklearn.linear_model import LogisticRegression\n",
    "from sklearn.naive_bayes import MultinomialNB\n",
    "from sklearn.model_selection import train_test_split, GridSearchCV\n",
    "from sklearn.pipeline import Pipeline\n",
    "from sklearn import metrics\n",
    "from sklearn.metrics import accuracy_score, recall_score, precision_score, confusion_matrix\n",
    "\n",
    "import pickle"
   ]
  },
  {
   "cell_type": "code",
   "execution_count": 14,
   "metadata": {},
   "outputs": [
    {
     "name": "stdout",
     "output_type": "stream",
     "text": [
      "(25336, 3)\n"
     ]
    },
    {
     "data": {
      "text/html": [
       "<div>\n",
       "<style scoped>\n",
       "    .dataframe tbody tr th:only-of-type {\n",
       "        vertical-align: middle;\n",
       "    }\n",
       "\n",
       "    .dataframe tbody tr th {\n",
       "        vertical-align: top;\n",
       "    }\n",
       "\n",
       "    .dataframe thead th {\n",
       "        text-align: right;\n",
       "    }\n",
       "</style>\n",
       "<table border=\"1\" class=\"dataframe\">\n",
       "  <thead>\n",
       "    <tr style=\"text-align: right;\">\n",
       "      <th></th>\n",
       "      <th>Unnamed: 0</th>\n",
       "      <th>subreddit</th>\n",
       "      <th>title</th>\n",
       "    </tr>\n",
       "  </thead>\n",
       "  <tbody>\n",
       "    <tr>\n",
       "      <td>25331</td>\n",
       "      <td>14995</td>\n",
       "      <td>0</td>\n",
       "      <td>cdc urges citizens to avoid spreading coronavi...</td>\n",
       "    </tr>\n",
       "    <tr>\n",
       "      <td>25332</td>\n",
       "      <td>14996</td>\n",
       "      <td>0</td>\n",
       "      <td>tito s vodka is warning consumers that it can ...</td>\n",
       "    </tr>\n",
       "    <tr>\n",
       "      <td>25333</td>\n",
       "      <td>14997</td>\n",
       "      <td>0</td>\n",
       "      <td>presindent bolsonaro hires comedian to offer b...</td>\n",
       "    </tr>\n",
       "    <tr>\n",
       "      <td>25334</td>\n",
       "      <td>14998</td>\n",
       "      <td>0</td>\n",
       "      <td>cops take seized suv for joyride owner tracks ...</td>\n",
       "    </tr>\n",
       "    <tr>\n",
       "      <td>25335</td>\n",
       "      <td>14999</td>\n",
       "      <td>0</td>\n",
       "      <td>dead people shot at celebration of life party</td>\n",
       "    </tr>\n",
       "  </tbody>\n",
       "</table>\n",
       "</div>"
      ],
      "text/plain": [
       "       Unnamed: 0  subreddit  \\\n",
       "25331       14995          0   \n",
       "25332       14996          0   \n",
       "25333       14997          0   \n",
       "25334       14998          0   \n",
       "25335       14999          0   \n",
       "\n",
       "                                                   title  \n",
       "25331  cdc urges citizens to avoid spreading coronavi...  \n",
       "25332  tito s vodka is warning consumers that it can ...  \n",
       "25333  presindent bolsonaro hires comedian to offer b...  \n",
       "25334  cops take seized suv for joyride owner tracks ...  \n",
       "25335      dead people shot at celebration of life party  "
      ]
     },
     "execution_count": 14,
     "metadata": {},
     "output_type": "execute_result"
    }
   ],
   "source": [
    "\n",
    "#DataFrame\n",
    "df = pd.read_csv('./clean_data.csv')\n",
    "print(df.shape)\n",
    "df.tail()\n",
    "#df = df.drop(columns=['Unnamed: 0'])"
   ]
  },
  {
   "cell_type": "code",
   "execution_count": 15,
   "metadata": {},
   "outputs": [],
   "source": [
    "X = df['title']\n",
    "y = df['subreddit']\n",
    "X_train, X_test, y_train, y_test = train_test_split(X,\n",
    "                                                    y,\n",
    "                                                    random_state=42,\n",
    "                                                    stratify=y)"
   ]
  },
  {
   "cell_type": "code",
   "execution_count": 16,
   "metadata": {},
   "outputs": [
    {
     "name": "stdout",
     "output_type": "stream",
     "text": [
      "Best score: 0.8652247131880855\n",
      "Train score 0.9977370803073361\n",
      "Test score 0.8792232396589833\n"
     ]
    }
   ],
   "source": [
    "pipe = Pipeline([('cvec', CountVectorizer()),    \n",
    "                 ('lr', LogisticRegression(solver='liblinear'))])\n",
    "\n",
    "# Tune GridSearchCV\n",
    "pipe_params = {'cvec__ngram_range': [(1,1), (2,2), (1,3)],\n",
    "               'lr__C': [0.01, 1]}\n",
    "\n",
    "gs = GridSearchCV(pipe, param_grid=pipe_params, cv=3)\n",
    "gs.fit(X_train, y_train);\n",
    "print(\"Best score:\", gs.best_score_)\n",
    "print(\"Train score\", gs.score(X_train, y_train))\n",
    "print(\"Test score\", gs.score(X_test, y_test))"
   ]
  },
  {
   "cell_type": "code",
   "execution_count": 12,
   "metadata": {},
   "outputs": [
    {
     "name": "stdout",
     "output_type": "stream",
     "text": [
      "[0]\n"
     ]
    }
   ],
   "source": [
    "sample=[\"An exotic dancer in Poland is a stripper Pole on a stripper pole\"]\n",
    "pred = gs.predict(sample)\n",
    "print(pred)"
   ]
  },
  {
   "cell_type": "code",
   "execution_count": 5,
   "metadata": {},
   "outputs": [],
   "source": [
    "pickle.dump(gs, open('LR.pkl', 'wb'))"
   ]
  },
  {
   "cell_type": "markdown",
   "metadata": {},
   "source": [
    "\n",
    "cv = CountVectorizer()\n",
    "cv.fit(X_train)\n",
    "X_train = cv.transform(X_train)\n",
    "X_test = cv.transform(X_test)\n",
    "X_train\n",
    "classifier = MultinomialNB()\n",
    "classifier.fit(X_train,y_train)\n",
    "score = classifier.score(X_test,y_test)\n",
    "print(\"Accuracy:\",score)"
   ]
  },
  {
   "cell_type": "code",
   "execution_count": 18,
   "metadata": {
    "scrolled": false
   },
   "outputs": [
    {
     "data": {
      "text/plain": [
       "<matplotlib.axes._subplots.AxesSubplot at 0x1a1b137490>"
      ]
     },
     "execution_count": 18,
     "metadata": {},
     "output_type": "execute_result"
    },
    {
     "data": {
      "image/png": "[encoded data removed]",
      "text/plain": [
       "<Figure size 432x288 with 1 Axes>"
      ]
     },
     "metadata": {
      "needs_background": "light"
     },
     "output_type": "display_data"
    }
   ],
   "source": [
    "import seaborn as sns\n",
    "sns.countplot(x='subreddit', data=df)"
   ]
  },
  {
   "cell_type": "code",
   "execution_count": null,
   "metadata": {},
   "outputs": [],
   "source": []
  }
 ],
 "metadata": {
  "kernelspec": {
   "display_name": "Python 3",
   "language": "python",
   "name": "python3"
  },
  "language_info": {
   "codemirror_mode": {
    "name": "ipython",
    "version": 3
   },
   "file_extension": ".py",
   "mimetype": "text/x-python",
   "name": "python",
   "nbconvert_exporter": "python",
   "pygments_lexer": "ipython3",
   "version": "3.7.4"
  }
 },
 "nbformat": 4,
 "nbformat_minor": 2
}
