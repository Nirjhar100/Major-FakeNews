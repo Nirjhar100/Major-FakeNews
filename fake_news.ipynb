{
 "cells": [
  {
   "cell_type": "code",
   "execution_count": 1,
   "metadata": {},
   "outputs": [],
   "source": [
    "import numpy as np\n",
    "import pandas as pd\n",
    "\n",
    "import matplotlib.pyplot as plt\n",
    "import seaborn as sns\n",
    "%config InlineBackend.figure_format = 'retina'\n",
    "%matplotlib inline\n",
    "\n",
    "# Natural Language Processing\n",
    "from sklearn.feature_extraction import stop_words\n",
    "from sklearn.feature_extraction.text import CountVectorizer, TfidfVectorizer\n",
    "\n",
    "# Modeling\n",
    "from sklearn.linear_model import LogisticRegression\n",
    "from sklearn.model_selection import train_test_split, GridSearchCV\n",
    "from sklearn.pipeline import Pipeline\n",
    "from sklearn.naive_bayes import MultinomialNB\n",
    "from sklearn import metrics\n",
    "from sklearn.metrics import accuracy_score, recall_score, precision_score, confusion_matrix"
   ]
  },
  {
   "cell_type": "markdown",
   "metadata": {},
   "source": [
    "## Importing scraped dataframes"
   ]
  },
  {
   "cell_type": "code",
   "execution_count": 2,
   "metadata": {},
   "outputs": [
    {
     "name": "stdout",
     "output_type": "stream",
     "text": [
      "(31658, 3)\n"
     ]
    },
    {
     "data": {
      "text/html": [
       "<div>\n",
       "<style scoped>\n",
       "    .dataframe tbody tr th:only-of-type {\n",
       "        vertical-align: middle;\n",
       "    }\n",
       "\n",
       "    .dataframe tbody tr th {\n",
       "        vertical-align: top;\n",
       "    }\n",
       "\n",
       "    .dataframe thead th {\n",
       "        text-align: right;\n",
       "    }\n",
       "</style>\n",
       "<table border=\"1\" class=\"dataframe\">\n",
       "  <thead>\n",
       "    <tr style=\"text-align: right;\">\n",
       "      <th></th>\n",
       "      <th>Unnamed: 0</th>\n",
       "      <th>subreddit</th>\n",
       "      <th>title</th>\n",
       "    </tr>\n",
       "  </thead>\n",
       "  <tbody>\n",
       "    <tr>\n",
       "      <td>0</td>\n",
       "      <td>0</td>\n",
       "      <td>1</td>\n",
       "      <td>things to know about andrew cuomo</td>\n",
       "    </tr>\n",
       "    <tr>\n",
       "      <td>1</td>\n",
       "      <td>1</td>\n",
       "      <td>1</td>\n",
       "      <td>woman needs to shut up and allow man to be ally</td>\n",
       "    </tr>\n",
       "    <tr>\n",
       "      <td>2</td>\n",
       "      <td>2</td>\n",
       "      <td>1</td>\n",
       "      <td>major relief blizzard has announced that overw...</td>\n",
       "    </tr>\n",
       "    <tr>\n",
       "      <td>3</td>\n",
       "      <td>3</td>\n",
       "      <td>1</td>\n",
       "      <td>covid antibody tests may be wrong  of the time</td>\n",
       "    </tr>\n",
       "    <tr>\n",
       "      <td>4</td>\n",
       "      <td>4</td>\n",
       "      <td>1</td>\n",
       "      <td>nasa curious how folks would feel if they hypo...</td>\n",
       "    </tr>\n",
       "  </tbody>\n",
       "</table>\n",
       "</div>"
      ],
      "text/plain": [
       "   Unnamed: 0  subreddit                                              title\n",
       "0           0          1                  things to know about andrew cuomo\n",
       "1           1          1    woman needs to shut up and allow man to be ally\n",
       "2           2          1  major relief blizzard has announced that overw...\n",
       "3           3          1     covid antibody tests may be wrong  of the time\n",
       "4           4          1  nasa curious how folks would feel if they hypo..."
      ]
     },
     "execution_count": 2,
     "metadata": {},
     "output_type": "execute_result"
    }
   ],
   "source": [
    "#DataFrame\n",
    "df = pd.read_csv('./clean_data.csv')\n",
    "print(df.shape)\n",
    "df.head()"
   ]
  },
  {
   "cell_type": "code",
   "execution_count": 13,
   "metadata": {},
   "outputs": [],
   "source": [
    "def bar_plot(x, y, title, color):    \n",
    "    \n",
    "    # Set up barplot \n",
    "    plt.figure(figsize=(9,5))\n",
    "    g=sns.barplot(x, y, color = color)    \n",
    "    ax=g\n",
    "\n",
    "    # Label the graph\n",
    "    plt.title(title, fontsize = 15)\n",
    "    plt.xticks(fontsize = 10)\n",
    "\n",
    "    # Enable bar values\n",
    "    # Code modified from http://robertmitchellv.com/blog-bar-chart-annotations-pandas-mpl.html\n",
    "    # create a list to collect the plt.patches data\n",
    "    totals = []\n",
    "\n",
    "    # find the values and append to list\n",
    "    for p in ax.patches:\n",
    "        totals.append(p.get_width())\n",
    "\n",
    "    # set individual bar lables using above list\n",
    "    total = sum(totals)\n",
    "\n",
    "    # set individual bar lables using above list\n",
    "    for p in ax.patches:\n",
    "        # get_width pulls left or right; get_y pushes up or down\n",
    "        ax.text(p.get_width()+.3, p.get_y()+.38, \\\n",
    "                int(p.get_width()), fontsize=10)"
   ]
  },
  {
   "cell_type": "markdown",
   "metadata": {},
   "source": [
    "### Initiating word_embeddings for n-grams using CountVectorizer"
   ]
  },
  {
   "cell_type": "code",
   "execution_count": 17,
   "metadata": {},
   "outputs": [
    {
     "name": "stdout",
     "output_type": "stream",
     "text": [
      "(14200, 14074)\n"
     ]
    }
   ],
   "source": [
    "mask_on = df['subreddit'] == 1\n",
    "df_onion_titles = df[mask_on]['title']\n",
    "\n",
    "# Instantiate a CountVectorizer\n",
    "cv1 = CountVectorizer(stop_words = 'english')\n",
    "\n",
    "# Fit and transform the vectorizer on our corpus\n",
    "onion_cvec = cv1.fit_transform(df_onion_titles)\n",
    "\n",
    "# Convert onion_cvec into a DataFrame\n",
    "onion_cvec_df = pd.DataFrame(onion_cvec.toarray(),\n",
    "                   columns=cv1.get_feature_names())\n",
    "\n",
    "# Inspect head of Onion Titles cvec\n",
    "print(onion_cvec_df.shape)"
   ]
  },
  {
   "cell_type": "code",
   "execution_count": 18,
   "metadata": {},
   "outputs": [
    {
     "name": "stdout",
     "output_type": "stream",
     "text": [
      "(11744, 14554)\n"
     ]
    }
   ],
   "source": [
    "\n",
    "# Set variables to show NotTheOnion Titles\n",
    "mask_no = df['subreddit'] == 0\n",
    "df_not_onion_titles = df[mask_no]['title']\n",
    "\n",
    "# Instantiate a CountVectorizer\n",
    "cv2 = CountVectorizer(stop_words = 'english')\n",
    "\n",
    "# Fit and transform the vectorizer on our corpus\n",
    "not_onion_cvec = cv2.fit_transform(df_not_onion_titles)\n",
    "\n",
    "# Convert onion_cvec into a DataFrame\n",
    "not_onion_cvec_df = pd.DataFrame(not_onion_cvec.toarray(),\n",
    "                   columns=cv2.get_feature_names())\n",
    "\n",
    "# Inspect head of Not Onion Titles cvec\n",
    "print(not_onion_cvec_df.shape)"
   ]
  },
  {
   "cell_type": "markdown",
   "metadata": {},
   "source": [
    "## Exploratory Data Analysis(EDA) using NLP\n"
   ]
  },
  {
   "cell_type": "code",
   "execution_count": 19,
   "metadata": {},
   "outputs": [
    {
     "data": {
      "image/png": "[encoded data removed]",
      "text/plain": [
       "<Figure size 648x360 with 1 Axes>"
      ]
     },
     "metadata": {
      "image/png": {
       "height": 320,
       "width": 554
      },
      "needs_background": "light"
     },
     "output_type": "display_data"
    }
   ],
   "source": [
    "# Set up variables to contain top 5 most used words in Onion\n",
    "onion_wc = onion_cvec_df.sum(axis = 0)\n",
    "onion_top_5 = onion_wc.sort_values(ascending=False).head(5)\n",
    "\n",
    "# Call function\n",
    "bar_plot(onion_top_5.values, onion_top_5.index, 'Top 5 unigrams on r/TheOnion','r')"
   ]
  },
  {
   "cell_type": "code",
   "execution_count": 20,
   "metadata": {},
   "outputs": [
    {
     "data": {
      "image/png": "[encoded data removed]",
      "text/plain": [
       "<Figure size 648x360 with 1 Axes>"
      ]
     },
     "metadata": {
      "image/png": {
       "height": 320,
       "width": 561
      },
      "needs_background": "light"
     },
     "output_type": "display_data"
    }
   ],
   "source": [
    "# Set up variables to contain top 5 most used words in Onion\n",
    "nonion_wc = not_onion_cvec_df.sum(axis = 0)\n",
    "nonion_top_5 = nonion_wc.sort_values(ascending=False).head(5)\n",
    "\n",
    "# Call function\n",
    "bar_plot(nonion_top_5.values, nonion_top_5.index, 'Top 5 unigrams on r/nottheonion','b')"
   ]
  },
  {
   "cell_type": "code",
   "execution_count": 21,
   "metadata": {},
   "outputs": [
    {
     "data": {
      "text/plain": [
       "{'man', 'trump'}"
      ]
     },
     "execution_count": 21,
     "metadata": {},
     "output_type": "execute_result"
    }
   ],
   "source": [
    "# Create list of unique words in top five\n",
    "not_onion_5_set = set(nonion_top_5.index)\n",
    "onion_5_set = set(onion_top_5.index)\n",
    "\n",
    "# Return common words\n",
    "common_unigrams = onion_5_set.intersection(not_onion_5_set)\n",
    "common_unigrams"
   ]
  },
  {
   "cell_type": "code",
   "execution_count": 22,
   "metadata": {},
   "outputs": [
    {
     "name": "stdout",
     "output_type": "stream",
     "text": [
      "(14200, 47155)\n"
     ]
    }
   ],
   "source": [
    "\n",
    "# Set variables to show TheOnion Titles\n",
    "mask = df['subreddit'] == 1\n",
    "df_onion_titles = df[mask]['title']\n",
    "\n",
    "# Instantiate a CountVectorizer\n",
    "cv = CountVectorizer(stop_words = 'english', ngram_range=(2,2))\n",
    "\n",
    "# Fit and transform the vectorizer on our corpus\n",
    "onion_cvec = cv.fit_transform(df_onion_titles)\n",
    "\n",
    "# Convert onion_cvec into a DataFrame\n",
    "onion_cvec_df = pd.DataFrame(onion_cvec.toarray(),\n",
    "                   columns=cv.get_feature_names())\n",
    "\n",
    "# Inspect head of Onion Titles cvec\n",
    "print(onion_cvec_df.shape)"
   ]
  },
  {
   "cell_type": "code",
   "execution_count": 23,
   "metadata": {},
   "outputs": [
    {
     "name": "stdout",
     "output_type": "stream",
     "text": [
      "(11744, 58872)\n"
     ]
    }
   ],
   "source": [
    "# Set variables to show NotTheOnion Titles\n",
    "mask = df['subreddit'] == 0\n",
    "df_not_onion_titles = df[mask]['title']\n",
    "\n",
    "# Instantiate a CountVectorizer\n",
    "cv = CountVectorizer(stop_words = 'english', ngram_range=(2,2))\n",
    "\n",
    "# Fit and transform the vectorizer on our corpus\n",
    "not_onion_cvec = cv.fit_transform(df_not_onion_titles)\n",
    "\n",
    "# Convert onion_cvec into a DataFrame\n",
    "not_onion_cvec_df = pd.DataFrame(not_onion_cvec.toarray(),\n",
    "                   columns=cv.get_feature_names())\n",
    "\n",
    "# Inspect head of Not Onion Titles cvec\n",
    "print(not_onion_cvec_df.shape)"
   ]
  },
  {
   "cell_type": "code",
   "execution_count": 24,
   "metadata": {},
   "outputs": [
    {
     "data": {
      "image/png": "[encoded data removed]",
      "text/plain": [
       "<Figure size 648x360 with 1 Axes>"
      ]
     },
     "metadata": {
      "image/png": {
       "height": 320,
       "width": 593
      },
      "needs_background": "light"
     },
     "output_type": "display_data"
    }
   ],
   "source": [
    "# Set up variables to contain top 5 most used bigrams in r/TheOnion\n",
    "onion_wc = onion_cvec_df.sum(axis = 0)\n",
    "onion_top_5 = onion_wc.sort_values(ascending=False).head(5)\n",
    "\n",
    "# Call function\n",
    "bar_plot(onion_top_5.values, onion_top_5.index, 'Top 5 bigrams on r/TheOnion','r')"
   ]
  },
  {
   "cell_type": "code",
   "execution_count": 25,
   "metadata": {},
   "outputs": [
    {
     "data": {
      "image/png": "[encoded data removed]",
      "text/plain": [
       "<Figure size 648x360 with 1 Axes>"
      ]
     },
     "metadata": {
      "image/png": {
       "height": 320,
       "width": 591
      },
      "needs_background": "light"
     },
     "output_type": "display_data"
    }
   ],
   "source": [
    "# Set up variables to contain top 5 most used bigrams in r/nottheonion\n",
    "nonion_wc = not_onion_cvec_df.sum(axis = 0)\n",
    "nonion_top_5 = nonion_wc.sort_values(ascending=False).head(5)\n",
    "\n",
    "# Call function\n",
    "bar_plot(nonion_top_5.values, nonion_top_5.index, 'Top 5 bigrams on r/nottheonion','b')"
   ]
  },
  {
   "cell_type": "code",
   "execution_count": 60,
   "metadata": {},
   "outputs": [
    {
     "ename": "NameError",
     "evalue": "name 'nonion_top_5' is not defined",
     "output_type": "error",
     "traceback": [
      "\u001b[0;31m---------------------------------------------------------------------------\u001b[0m",
      "\u001b[0;31mNameError\u001b[0m                                 Traceback (most recent call last)",
      "\u001b[0;32m<ipython-input-60-0e437a8472aa>\u001b[0m in \u001b[0;36m<module>\u001b[0;34m\u001b[0m\n\u001b[0;32m----> 1\u001b[0;31m \u001b[0mnot_onion_5_list\u001b[0m \u001b[0;34m=\u001b[0m \u001b[0mset\u001b[0m\u001b[0;34m(\u001b[0m\u001b[0mnonion_top_5\u001b[0m\u001b[0;34m.\u001b[0m\u001b[0mindex\u001b[0m\u001b[0;34m)\u001b[0m\u001b[0;34m\u001b[0m\u001b[0;34m\u001b[0m\u001b[0m\n\u001b[0m\u001b[1;32m      2\u001b[0m \u001b[0monion_5_list\u001b[0m \u001b[0;34m=\u001b[0m \u001b[0mset\u001b[0m\u001b[0;34m(\u001b[0m\u001b[0monion_top_5\u001b[0m\u001b[0;34m.\u001b[0m\u001b[0mindex\u001b[0m\u001b[0;34m)\u001b[0m\u001b[0;34m\u001b[0m\u001b[0;34m\u001b[0m\u001b[0m\n\u001b[1;32m      3\u001b[0m \u001b[0;34m\u001b[0m\u001b[0m\n\u001b[1;32m      4\u001b[0m \u001b[0;31m# Return common words\u001b[0m\u001b[0;34m\u001b[0m\u001b[0;34m\u001b[0m\u001b[0;34m\u001b[0m\u001b[0m\n\u001b[1;32m      5\u001b[0m \u001b[0mcommon_bigrams\u001b[0m \u001b[0;34m=\u001b[0m \u001b[0monion_5_list\u001b[0m\u001b[0;34m.\u001b[0m\u001b[0mintersection\u001b[0m\u001b[0;34m(\u001b[0m\u001b[0mnot_onion_5_list\u001b[0m\u001b[0;34m)\u001b[0m\u001b[0;34m\u001b[0m\u001b[0;34m\u001b[0m\u001b[0m\n",
      "\u001b[0;31mNameError\u001b[0m: name 'nonion_top_5' is not defined"
     ]
    }
   ],
   "source": [
    "not_onion_5_list = set(nonion_top_5.index)\n",
    "onion_5_list = set(onion_top_5.index)\n",
    "\n",
    "# Return common words\n",
    "common_bigrams = onion_5_list.intersection(not_onion_5_list)\n",
    "common_bigrams"
   ]
  },
  {
   "cell_type": "markdown",
   "metadata": {},
   "source": [
    "### Adding common unigrams and bigrams to custom stopwords"
   ]
  },
  {
   "cell_type": "code",
   "execution_count": 59,
   "metadata": {},
   "outputs": [
    {
     "ename": "NameError",
     "evalue": "name 'common_unigrams' is not defined",
     "output_type": "error",
     "traceback": [
      "\u001b[0;31m---------------------------------------------------------------------------\u001b[0m",
      "\u001b[0;31mNameError\u001b[0m                                 Traceback (most recent call last)",
      "\u001b[0;32m<ipython-input-59-dd112823d123>\u001b[0m in \u001b[0;36m<module>\u001b[0;34m\u001b[0m\n\u001b[1;32m      2\u001b[0m \u001b[0mcustom\u001b[0m \u001b[0;34m=\u001b[0m \u001b[0mstop_words\u001b[0m\u001b[0;34m.\u001b[0m\u001b[0mENGLISH_STOP_WORDS\u001b[0m\u001b[0;34m\u001b[0m\u001b[0;34m\u001b[0m\u001b[0m\n\u001b[1;32m      3\u001b[0m \u001b[0mcustom\u001b[0m \u001b[0;34m=\u001b[0m \u001b[0mlist\u001b[0m\u001b[0;34m(\u001b[0m\u001b[0mcustom\u001b[0m\u001b[0;34m)\u001b[0m\u001b[0;34m\u001b[0m\u001b[0;34m\u001b[0m\u001b[0m\n\u001b[0;32m----> 4\u001b[0;31m \u001b[0mcommon_unigrams\u001b[0m \u001b[0;34m=\u001b[0m \u001b[0mlist\u001b[0m\u001b[0;34m(\u001b[0m\u001b[0mcommon_unigrams\u001b[0m\u001b[0;34m)\u001b[0m\u001b[0;34m\u001b[0m\u001b[0;34m\u001b[0m\u001b[0m\n\u001b[0m\u001b[1;32m      5\u001b[0m \u001b[0mcommon_bigrams\u001b[0m \u001b[0;34m=\u001b[0m \u001b[0mlist\u001b[0m\u001b[0;34m(\u001b[0m\u001b[0mcommon_bigrams\u001b[0m\u001b[0;34m)\u001b[0m\u001b[0;34m\u001b[0m\u001b[0;34m\u001b[0m\u001b[0m\n\u001b[1;32m      6\u001b[0m \u001b[0;34m\u001b[0m\u001b[0m\n",
      "\u001b[0;31mNameError\u001b[0m: name 'common_unigrams' is not defined"
     ]
    }
   ],
   "source": [
    "\n",
    "# Create lists \n",
    "custom = stop_words.ENGLISH_STOP_WORDS\n",
    "custom = list(custom)\n",
    "common_unigrams = list(common_unigrams)\n",
    "common_bigrams = list(common_bigrams)\n",
    "\n",
    "# Append unigrams to list \n",
    "for i in common_unigrams:\n",
    "    custom.append(i)\n",
    "\n",
    "    \n",
    "# Append bigrams to list \n",
    "for i in common_bigrams:\n",
    "    split_words = i.split(\" \")\n",
    "    for word in split_words:\n",
    "        custom.append(word)"
   ]
  },
  {
   "cell_type": "markdown",
   "metadata": {},
   "source": [
    "## Modelling\n"
   ]
  },
  {
   "cell_type": "code",
   "execution_count": 53,
   "metadata": {},
   "outputs": [
    {
     "data": {
      "text/plain": [
       "1    0.545585\n",
       "0    0.454415\n",
       "Name: subreddit, dtype: float64"
      ]
     },
     "execution_count": 53,
     "metadata": {},
     "output_type": "execute_result"
    }
   ],
   "source": [
    "# Baseline score\n",
    "df['subreddit'].value_counts(normalize=True)"
   ]
  },
  {
   "cell_type": "code",
   "execution_count": 4,
   "metadata": {},
   "outputs": [],
   "source": [
    "X = df['title']\n",
    "y = df['subreddit']"
   ]
  },
  {
   "cell_type": "code",
   "execution_count": 12,
   "metadata": {},
   "outputs": [],
   "source": [
    "X_train, X_test, y_train, y_test = train_test_split(X,\n",
    "                                                    y,\n",
    "                                                    random_state=42,\n",
    "                                                    stratify=y)"
   ]
  },
  {
   "cell_type": "markdown",
   "metadata": {},
   "source": [
    "## Training the model with CountVectorizer and Logistic Regression\n",
    "### Model 1: CountVectorizer and Logistic Regression"
   ]
  },
  {
   "cell_type": "code",
   "execution_count": 13,
   "metadata": {},
   "outputs": [
    {
     "name": "stdout",
     "output_type": "stream",
     "text": [
      "Accuracy: 0.8605180037902717\n"
     ]
    }
   ],
   "source": [
    "cv = CountVectorizer() \n",
    "cv.fit(X_train) \n",
    "X_train = cv.transform(X_train) \n",
    "X_test = cv.transform(X_test) \n",
    "X_train \n",
    "classifier = LogisticRegression(solver='liblinear') \n",
    "classifier.fit(X_train,y_train) \n",
    "score = classifier.score(X_test,y_test) \n",
    "print(\"Accuracy:\",score)\n"
   ]
  },
  {
   "cell_type": "markdown",
   "metadata": {},
   "source": [
    "### Model 2: Tfidf Vectorize and Logistic Regression \n"
   ]
  },
  {
   "cell_type": "code",
   "execution_count": 57,
   "metadata": {},
   "outputs": [
    {
     "name": "stdout",
     "output_type": "stream",
     "text": [
      "Best score: 0.8535148475439853\n",
      "Train score 0.9353554653291936\n",
      "Test score 0.859360076408787\n"
     ]
    }
   ],
   "source": [
    "pipe = Pipeline([('tvect', TfidfVectorizer()),    \n",
    "                 ('lr', LogisticRegression(solver='liblinear'))])\n",
    "\n",
    "# Tune GridSearchCV\n",
    "pipe_params = {'tvect__max_df': [.75, .98, 1.0],\n",
    "               'tvect__min_df': [2, 3, 5],\n",
    "               'tvect__ngram_range': [(1,1), (1,2), (1,3)],\n",
    "               'lr__C': [1]}\n",
    "\n",
    "gs = GridSearchCV(pipe, param_grid=pipe_params, cv=3)\n",
    "gs.fit(X_train, y_train);\n",
    "print(\"Best score:\", gs.best_score_)\n",
    "print(\"Train score\", gs.score(X_train, y_train))\n",
    "print(\"Test score\", gs.score(X_test, y_test))"
   ]
  },
  {
   "cell_type": "markdown",
   "metadata": {},
   "source": [
    "### Model 3: CountVectorize and MultinomialNB (best accuracy score)"
   ]
  },
  {
   "cell_type": "code",
   "execution_count": 58,
   "metadata": {},
   "outputs": [
    {
     "name": "stdout",
     "output_type": "stream",
     "text": [
      "Best score: 0.8668895788551867\n",
      "Train score 0.9943475837910994\n",
      "Test score 0.8767908309455588\n"
     ]
    }
   ],
   "source": [
    "pipe = Pipeline([('cvec', CountVectorizer()),    \n",
    "                 ('nb', MultinomialNB())])\n",
    "\n",
    "# Tune GridSearchCV\n",
    "pipe_params = {'cvec__ngram_range': [(1,1),(1,3)],\n",
    "               'nb__alpha': [.36, .6]}\n",
    "\n",
    "gs = GridSearchCV(pipe, param_grid=pipe_params, cv=3)\n",
    "gs.fit(X_train, y_train);\n",
    "print(\"Best score:\", gs.best_score_)\n",
    "print(\"Train score\", gs.score(X_train, y_train))\n",
    "print(\"Test score\", gs.score(X_test, y_test))\n",
    "\n"
   ]
  },
  {
   "cell_type": "markdown",
   "metadata": {},
   "source": [
    "## Sample Testing.\n"
   ]
  },
  {
   "cell_type": "code",
   "execution_count": 72,
   "metadata": {
    "scrolled": true
   },
   "outputs": [
    {
     "name": "stdout",
     "output_type": "stream",
     "text": [
      "Real News\n"
     ]
    }
   ],
   "source": [
    "sample=[\"man burns down entire building trying to kill snake \"]\n",
    "pred = gs.predict(sample)\n",
    "if pred[0]==0:\n",
    "    print(\"Real News\")\n",
    "else:\n",
    "    print(\"Fake News\")"
   ]
  },
  {
   "cell_type": "markdown",
   "metadata": {},
   "source": [
    "### Model 4: Tfidf Vectorize and MultinomialNB "
   ]
  },
  {
   "cell_type": "code",
   "execution_count": 35,
   "metadata": {},
   "outputs": [
    {
     "name": "stdout",
     "output_type": "stream",
     "text": [
      "Best score: 0.8460273409394593\n",
      "Train score 0.9119128379072875\n",
      "Test score 0.8580018501387604\n"
     ]
    }
   ],
   "source": [
    "pipe = Pipeline([('tvect', TfidfVectorizer()),    \n",
    "                 ('nb', MultinomialNB())])\n",
    "\n",
    "# Tune GridSearchCV\n",
    "pipe_params = {'tvect__max_df': [.75, .98],\n",
    "               'tvect__min_df': [4, 5],\n",
    "               'tvect__ngram_range': [(1,2), (1,3)],\n",
    "               'nb__alpha': [0.1, 1]}\n",
    "\n",
    "gs = GridSearchCV(pipe, param_grid=pipe_params, cv=5)\n",
    "gs.fit(X_train, y_train);\n",
    "print(\"Best score:\", gs.best_score_)\n",
    "print(\"Train score\", gs.score(X_train, y_train))\n",
    "print(\"Test score\", gs.score(X_test, y_test))"
   ]
  },
  {
   "cell_type": "markdown",
   "metadata": {},
   "source": [
    "# Evaluation \n",
    "\n",
    "### Count Vectorize and MultinomialNB (best score)"
   ]
  },
  {
   "cell_type": "code",
   "execution_count": 36,
   "metadata": {},
   "outputs": [
    {
     "name": "stdout",
     "output_type": "stream",
     "text": [
      "0.8877582485353068\n"
     ]
    }
   ],
   "source": [
    "#Instantiate the classifier and vectorizer\n",
    "nb = MultinomialNB(alpha = 0.36)\n",
    "cvec = CountVectorizer(ngram_range= (1, 3))\n",
    "\n",
    "# Fit and transform the vectorizor\n",
    "cvec.fit(X_train)\n",
    "\n",
    "Xcvec_train = cvec.transform(X_train)\n",
    "Xcvec_test = cvec.transform(X_test)\n",
    "\n",
    "# Fit the classifier\n",
    "nb.fit(Xcvec_train,y_train)\n",
    "\n",
    "# Create the predictions for Y training data\n",
    "preds = nb.predict(Xcvec_test)\n",
    "\n",
    "print(nb.score(Xcvec_test, y_test))"
   ]
  },
  {
   "cell_type": "markdown",
   "metadata": {},
   "source": [
    "## Confusion Matrix"
   ]
  },
  {
   "cell_type": "code",
   "execution_count": 37,
   "metadata": {},
   "outputs": [
    {
     "data": {
      "text/plain": [
       "array([[2568,  368],\n",
       "       [ 360, 3190]])"
      ]
     },
     "execution_count": 37,
     "metadata": {},
     "output_type": "execute_result"
    }
   ],
   "source": [
    "# Create a confusion matrix\n",
    "cnf_matrix = metrics.confusion_matrix(y_test, preds)\n",
    "cnf_matrix"
   ]
  },
  {
   "cell_type": "code",
   "execution_count": 38,
   "metadata": {},
   "outputs": [
    {
     "data": {
      "text/plain": [
       "Text(0.5, 257.44, 'Predicted label')"
      ]
     },
     "execution_count": 38,
     "metadata": {},
     "output_type": "execute_result"
    },
    {
     "data": {
      "image/png": "[encoded data removed]",
      "text/plain": [
       "<Figure size 432x288 with 2 Axes>"
      ]
     },
     "metadata": {
      "image/png": {
       "height": 302,
       "width": 423
      },
      "needs_background": "light"
     },
     "output_type": "display_data"
    }
   ],
   "source": [
    "# Code from https://www.datacamp.com/community/tutorials/understanding-logistic-regression-python\n",
    "\n",
    "# name  of classes\n",
    "class_names=[0,1] \n",
    "\n",
    "# Set fig and axes \n",
    "fig, ax = plt.subplots()\n",
    "tick_marks = np.arange(len(class_names))\n",
    "plt.xticks(tick_marks, class_names)\n",
    "plt.yticks(tick_marks, class_names)\n",
    "\n",
    "# Create heatmap\n",
    "sns.heatmap(pd.DataFrame(cnf_matrix), annot=True, cmap=\"YlGnBu\" ,fmt='g')\n",
    "ax.xaxis.set_label_position(\"top\")\n",
    "plt.tight_layout()\n",
    "plt.title('Confusion matrix', y=1.1)\n",
    "plt.ylabel('Actual label')\n",
    "plt.xlabel('Predicted label')"
   ]
  },
  {
   "cell_type": "code",
   "execution_count": 39,
   "metadata": {},
   "outputs": [],
   "source": [
    "# Assign True Neg, False Pos, False Neg, True Pos variables\n",
    "cnf_matrix = np.array(cnf_matrix).tolist()\n",
    "\n",
    "tn_fp, fn_tp = cnf_matrix\n",
    "\n",
    "tn, fp = tn_fp\n",
    "fn, tp = fn_tp"
   ]
  },
  {
   "cell_type": "code",
   "execution_count": 40,
   "metadata": {},
   "outputs": [
    {
     "name": "stdout",
     "output_type": "stream",
     "text": [
      "Accuracy: 88.78 %\n",
      "Precision: 89.66 %\n",
      "Recall: 89.86 %\n",
      "Specificity: 87.47 %\n",
      "Misclassification Rate: 12.41 %\n"
     ]
    }
   ],
   "source": [
    "# Print Scores \n",
    "\n",
    "print(\"Accuracy:\",round(metrics.accuracy_score(y_test, preds)*100, 2),'%')\n",
    "print(\"Precision:\",round(metrics.precision_score(y_test, preds)*100, 2), '%')\n",
    "print(\"Recall:\",round(metrics.recall_score(y_test, preds)*100, 2), '%')\n",
    "print(\"Specificity:\", round((tn/(tn+fp))*100, 2), '%')\n",
    "print(\"Misclassification Rate:\", round((fp+fn)/(tn+fp+fn+tn)*100, 2), '%')"
   ]
  }
 ],
 "metadata": {
  "kernelspec": {
   "display_name": "Python 3",
   "language": "python",
   "name": "python3"
  },
  "language_info": {
   "codemirror_mode": {
    "name": "ipython",
    "version": 3
   },
   "file_extension": ".py",
   "mimetype": "text/x-python",
   "name": "python",
   "nbconvert_exporter": "python",
   "pygments_lexer": "ipython3",
   "version": "3.7.4"
  }
 },
 "nbformat": 4,
 "nbformat_minor": 2
}
