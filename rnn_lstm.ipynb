{
  "nbformat": 4,
  "nbformat_minor": 0,
  "metadata": {
    "colab": {
      "name": "rnn_lstm.ipynb",
      "provenance": [],
      "authorship_tag": "ABX9TyOqhZzlxr4G+mdTTIZ/3BdM",
      "include_colab_link": true
    },
    "kernelspec": {
      "name": "python3",
      "display_name": "Python 3"
    }
  },
  "cells": [
    {
      "cell_type": "markdown",
      "metadata": {
        "id": "view-in-github",
        "colab_type": "text"
      },
      "source": [
        "<a href=\"https://colab.research.google.com/github/Nirjhar100/Major-FakeNews/blob/master/rnn_lstm.ipynb\" target=\"_parent\"><img src=\"https://colab.research.google.com/assets/colab-badge.svg\" alt=\"Open In Colab\"/></a>"
      ]
    },
    {
      "cell_type": "code",
      "metadata": {
        "id": "xA0bT5pfLxuO",
        "colab_type": "code",
        "colab": {}
      },
      "source": [
        "import pandas as pd\n",
        "from sklearn.model_selection import train_test_split\n",
        "from keras.models import Sequential\n",
        "from keras import layers\n",
        "from keras.layers import Dense, Dropout, Activation\n",
        "from keras.layers import LSTM\n",
        "from keras.preprocessing.text import Tokenizer\n",
        "from keras.preprocessing.sequence import pad_sequences"
      ],
      "execution_count": 0,
      "outputs": []
    },
    {
      "cell_type": "code",
      "metadata": {
        "id": "7HbIa09SAW8y",
        "colab_type": "code",
        "colab": {}
      },
      "source": [
        "df = pd.read_csv('./clean_data.csv')\n",
        "X=df['title']\n",
        "y=df['subreddit']\n",
        "X_train, X_test, y_train, y_test = train_test_split(X, y, test_size=0.10,\n",
        "                                                     random_state=42)"
      ],
      "execution_count": 0,
      "outputs": []
    },
    {
      "cell_type": "code",
      "metadata": {
        "id": "iAq04MU8AigT",
        "colab_type": "code",
        "colab": {}
      },
      "source": [
        "tokenizer = Tokenizer(num_words = 5000)\n",
        "tokenizer.fit_on_texts(X_train)\n",
        "X_train = tokenizer.texts_to_sequences(X_train)\n",
        "X_test = tokenizer.texts_to_sequences(X_test)\n",
        "\n",
        "vocab_size = len(tokenizer.word_index)+1\n",
        "maxlen = 50\n",
        "\n",
        "X_train = pad_sequences(X_train, padding = 'post', maxlen=maxlen)\n",
        "X_test = pad_sequences(X_test, padding = 'post', maxlen = maxlen)"
      ],
      "execution_count": 0,
      "outputs": []
    },
    {
      "cell_type": "code",
      "metadata": {
        "id": "N6ZLReWaAs29",
        "colab_type": "code",
        "colab": {}
      },
      "source": [
        "lstm_output_size = 70\n",
        "embedding_dim = 100"
      ],
      "execution_count": 0,
      "outputs": []
    },
    {
      "cell_type": "code",
      "metadata": {
        "id": "3xBh_vTuA37Q",
        "colab_type": "code",
        "colab": {
          "base_uri": "https://localhost:8080/",
          "height": 357
        },
        "outputId": "ee4c19e7-d042-4a78-ecfe-67bb07dcbede"
      },
      "source": [
        "model = Sequential()\n",
        "#model.add(layers.Dense(64,input_dim = input_dim,activation = 'relu'))\n",
        "#model.add(layers.Dense(128, activation = 'relu'))\n",
        "\n",
        "model.add(layers.Embedding(input_dim=vocab_size, output_dim=embedding_dim,\n",
        "                           input_length = maxlen))\n",
        "#model.add(Flatten())\n",
        "model.add(Dropout(0.25))\n",
        "model.add(layers.Conv1D(128, 5, activation='relu'))\n",
        "model.add(layers.GlobalMaxPool1D())\n",
        "#model.add(LSTM(128))\n",
        "#model.add(layers.Dense(64, activation = 'relu'))\n",
        "#model.add(layers.Dense(10, activation = 'relu'))\n",
        "#model.add(Flatten())\n",
        "model.add(Dense(1))\n",
        "model.add(Activation('sigmoid'))\n",
        "#model.add(layers.Dense(1, activation='sigmoid'))\n",
        "model.compile(loss='binary_crossentropy', optimizer='adam', metrics=['accuracy'])\n",
        "model.summary()"
      ],
      "execution_count": 11,
      "outputs": [
        {
          "output_type": "stream",
          "text": [
            "Model: \"sequential_4\"\n",
            "_________________________________________________________________\n",
            "Layer (type)                 Output Shape              Param #   \n",
            "=================================================================\n",
            "embedding_4 (Embedding)      (None, 50, 100)           2339400   \n",
            "_________________________________________________________________\n",
            "dropout_3 (Dropout)          (None, 50, 100)           0         \n",
            "_________________________________________________________________\n",
            "conv1d_3 (Conv1D)            (None, 46, 128)           64128     \n",
            "_________________________________________________________________\n",
            "global_max_pooling1d_3 (Glob (None, 128)               0         \n",
            "_________________________________________________________________\n",
            "dense_1 (Dense)              (None, 1)                 129       \n",
            "_________________________________________________________________\n",
            "activation_1 (Activation)    (None, 1)                 0         \n",
            "=================================================================\n",
            "Total params: 2,403,657\n",
            "Trainable params: 2,403,657\n",
            "Non-trainable params: 0\n",
            "_________________________________________________________________\n"
          ],
          "name": "stdout"
        }
      ]
    },
    {
      "cell_type": "code",
      "metadata": {
        "id": "MpbS7lSPBeIi",
        "colab_type": "code",
        "colab": {
          "base_uri": "https://localhost:8080/",
          "height": 292
        },
        "outputId": "afcf956b-a67e-46c6-e37b-01b6f91d7142"
      },
      "source": [
        "history=model.fit(X_train,y_train,epochs = 6, verbose = 1, validation_data=(X_test,y_test),batch_size=1024)"
      ],
      "execution_count": 13,
      "outputs": [
        {
          "output_type": "stream",
          "text": [
            "/usr/local/lib/python3.6/dist-packages/tensorflow/python/framework/indexed_slices.py:434: UserWarning: Converting sparse IndexedSlices to a dense Tensor of unknown shape. This may consume a large amount of memory.\n",
            "  \"Converting sparse IndexedSlices to a dense Tensor of unknown shape. \"\n"
          ],
          "name": "stderr"
        },
        {
          "output_type": "stream",
          "text": [
            "Train on 22802 samples, validate on 2534 samples\n",
            "Epoch 1/6\n",
            "22802/22802 [==============================] - 11s 495us/step - loss: 0.6725 - accuracy: 0.5885 - val_loss: 0.6172 - val_accuracy: 0.7991\n",
            "Epoch 2/6\n",
            "22802/22802 [==============================] - 11s 468us/step - loss: 0.5064 - accuracy: 0.8209 - val_loss: 0.3817 - val_accuracy: 0.8481\n",
            "Epoch 3/6\n",
            "22802/22802 [==============================] - 11s 469us/step - loss: 0.3194 - accuracy: 0.8712 - val_loss: 0.3052 - val_accuracy: 0.8642\n",
            "Epoch 4/6\n",
            "22802/22802 [==============================] - 11s 470us/step - loss: 0.2505 - accuracy: 0.8964 - val_loss: 0.3001 - val_accuracy: 0.8733\n",
            "Epoch 5/6\n",
            "22802/22802 [==============================] - 11s 470us/step - loss: 0.2133 - accuracy: 0.9154 - val_loss: 0.3120 - val_accuracy: 0.8682\n",
            "Epoch 6/6\n",
            "22802/22802 [==============================] - 11s 472us/step - loss: 0.1863 - accuracy: 0.9286 - val_loss: 0.3212 - val_accuracy: 0.8682\n"
          ],
          "name": "stdout"
        }
      ]
    },
    {
      "cell_type": "code",
      "metadata": {
        "id": "60FDGeCEB_dh",
        "colab_type": "code",
        "colab": {}
      },
      "source": [
        ""
      ],
      "execution_count": 0,
      "outputs": []
    }
  ]
}